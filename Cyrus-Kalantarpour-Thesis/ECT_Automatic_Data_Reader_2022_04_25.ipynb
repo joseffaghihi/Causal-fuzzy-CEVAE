{
  "nbformat": 4,
  "nbformat_minor": 0,
  "metadata": {
    "colab": {
      "provenance": []
    },
    "kernelspec": {
      "name": "python3",
      "display_name": "Python 3"
    },
    "language_info": {
      "name": "python"
    },
    "gpuClass": "standard"
  },
  "cells": [
    {
      "cell_type": "markdown",
      "metadata": {
        "id": "04D_jHiClylt"
      },
      "source": [
        "# Prepration"
      ]
    },
    {
      "cell_type": "code",
      "metadata": {
        "id": "PiAZIbRFsIBk"
      },
      "source": [
        "import numpy as np\n",
        "import pandas as pd\n",
        "from sklearn.preprocessing import OneHotEncoder\n",
        "from sklearn.preprocessing import MinMaxScaler\n",
        "from sklearn.preprocessing import LabelEncoder\n",
        "from sklearn.model_selection import train_test_split\n",
        "from tensorflow import keras\n",
        "from tensorflow.keras import layers\n",
        "from tensorflow.keras import optimizers\n",
        "from tensorflow.keras.layers import BatchNormalization\n",
        "from tensorflow.keras.layers import LayerNormalization\n",
        "from keras.regularizers import l2\n",
        "import matplotlib.pyplot as plt\n",
        "import glob\n",
        "from tqdm import tqdm\n",
        "import glob\n",
        "from dateutil.parser import parse\n",
        "import nltk\n",
        "nltk.download('punkt')"
      ],
      "execution_count": null,
      "outputs": []
    },
    {
      "cell_type": "code",
      "metadata": {
        "id": "wiALauuH_5Gx"
      },
      "source": [
        "from google.colab import drive\n",
        "drive.mount('/content/gdrive')"
      ],
      "execution_count": null,
      "outputs": []
    },
    {
      "cell_type": "code",
      "source": [
        "#id\n",
        "%cd gdrive/MyDrive/Sajjad_cloned_ready\n",
        "!unzip 'Sajjad cloned_id.zip'"
      ],
      "metadata": {
        "id": "JCH0GJ3cs4Qq"
      },
      "execution_count": null,
      "outputs": []
    },
    {
      "cell_type": "code",
      "source": [
        "#2_channels\n",
        "%cd gdrive/MyDrive/Sajjad_cloned_ready\n",
        "!unzip 2_Channels.zip\n",
        "%cd Données-Copie-Sept 2020_2_channel"
      ],
      "metadata": {
        "id": "e6b4Xz96tDov"
      },
      "execution_count": null,
      "outputs": []
    },
    {
      "cell_type": "markdown",
      "source": [
        "#Body"
      ],
      "metadata": {
        "id": "AIUDAbfhqmIa"
      }
    },
    {
      "cell_type": "code",
      "metadata": {
        "id": "7EjEDM-I4Tda"
      },
      "source": [
        "#Extract the information of an EEG file from the excel file\n",
        "def is_date(string, fuzzy=False):\n",
        "   \n",
        "    try: \n",
        "        parse(string, fuzzy=fuzzy)\n",
        "        return True\n",
        "\n",
        "    except ValueError:\n",
        "        return False\n",
        "\n",
        "def Date(List):\n",
        "  for i in List:\n",
        "    if is_date(i):\n",
        "      return i\n",
        "          \n",
        "def get_patient_id(Str):\n",
        "\n",
        "  for i in nltk.tokenize.wordpunct_tokenize(Str):\n",
        "    if i.isdigit():\n",
        "        if len(i)==6:\n",
        "          return(i)\n",
        "        elif len(i)>6:\n",
        "          print('The Id number is incorrect for  file name:',Str) \n",
        "          print(\"Please make shure that the patient's id should be a six digits number\")      \n",
        "\n",
        "               \n",
        "def EEG_reader(path):\n",
        "  a = pd.read_fwf(path , skiprows=2, header=None, encoding='ISO-8859-1').drop(0, axis=0)\n",
        "  b = pd.read_csv(path , skiprows=2, header=None, sep='\\t', encoding='ISO-8859-1').drop(0, axis=0).drop(0, axis=1)\n",
        "  if a.shape[1]>1:\n",
        "    return a\n",
        "  if b.shape[1]>1:\n",
        "    return b\n",
        "  if a.shape[1] + b.shape[1]<=2:\n",
        "    raise Exception('The EEG file at {} has a shape or encoding error. make sure the encoding is Utf-8'.format(path))\n"
      ],
      "execution_count": null,
      "outputs": []
    },
    {
      "cell_type": "code",
      "source": [
        "def cols(path):\n",
        "  a = list(pd.read_fwf(path , header=None).drop(0, axis=0).iloc[1].values)\n",
        "  if 'EEG0' in a or 'EEG1' in a or 'EEG2' in a or 'EEG3' in a:\n",
        "    for i in a:\n",
        "      if i.__class__ != str:\n",
        "        a.remove(i)\n",
        "    if a[-1].__class__ != str:\n",
        "        a.remove(a[-1])     \n",
        "    return a\n",
        "  else:\n",
        "    b= list(pd.read_csv(path,  header=None, sep='\\t').drop(0, axis=0).drop(0, axis=1).iloc[0].values)\n",
        "    if 'EEG0' in b or 'EEG1' in b or 'EEG2' in b or 'EEG3' in b:\n",
        "      for i in b:\n",
        "        if i.__class__ != str:\n",
        "          b.remove(i)\n",
        "      if b[-1].__class__ != str:\n",
        "        b.remove(b[-1])      \n",
        "      return b \n",
        "    else:\n",
        "      raise ValueError('File in path: {} column is corrupted'.format(path)) \n",
        "# Writes the informention from excel file along with the EEG raw data into a dataframe.\n",
        "# itretates over the whole EEG folders\n",
        "n =30 # Number of EEG data folders\n",
        "EEGs= []  # Will be the EEG stack\n",
        "# cols = ['EEG1', 'EEG1', 'EEG2', 'EEG4', 'Site', 'Phase', 'Durée clinique ', 'Durée EEG', 'Qualité clinique',\n",
        "#  'Adranergie', 'Qualité Aplatissement', 'Patho', 'Age', 'Sexe', 'Charge', 'Ti vs Tt', 'Anesthésiant', 'Qualité EEG']\n",
        "# cols1 = ['EEG1', 'EEG1', 'Site', 'Phase', 'Durée clinique ', 'Durée EEG', 'Qualité clinique',\n",
        "#  'Adranergie', 'Qualité Aplatissement', 'Patho', 'Age', 'Sexe', 'Charge', 'Ti vs Tt', 'Anesthésiant', 'Qualité EEG'] \n",
        "\n",
        "path_txt = glob.iglob('/content/gdrive/My Drive/Sajjad_cloned_ready/**/*.txt', recursive=True)\n",
        "path_xls = glob.iglob('/content/gdrive/My Drive/Sajjad_cloned_ready/**/*.xlsx', recursive=True)\n",
        "Path_xls = []\n",
        "Path_txt = []\n",
        "Txt = []\n",
        "Xls = []\n",
        "for i in path_txt:\n",
        "  Path_txt.append(i)\n",
        "for i in path_xls:\n",
        "  Path_xls.append(i) \n",
        "for i in tqdm(Path_txt):\n",
        "  Txt.append(EEG_reader(i))\n",
        "for i in tqdm(Path_xls):\n",
        "  Xls.append((i,pd.read_excel(i)))\n",
        "  \n",
        "\n",
        "duplicate = []\n",
        "duplicate_names = None\n",
        "for  i in range(len(Path_xls)):\n",
        "  duplicate.append(Path_xls[i].split('/')[-1])\n",
        "if len(duplicate)>=2:\n",
        "  duplicate_names = True\n",
        "else:\n",
        "  duplicate_names = False\n",
        "\n",
        "\"___________________________________________________________________________________________\"  \n",
        "\"___________________________________________________________________________________________\"  \n",
        "if duplicate_names == False:\n",
        "  EEGs=[]\n",
        "  c0=0\n",
        "  c1=0\n",
        "  for j in tqdm(Path_txt):\n",
        "    for i in Xls: \n",
        "      try:\n",
        "        Site = i[1] [i[1]['Date']==Date(j.split(',')).strip()]\n",
        "      except:\n",
        "        pass  \n",
        "      if len(Site)>=1:\n",
        "        EEG = Txt[Path_txt.index(j)]\n",
        "        Site1 = Site.values\n",
        "        try:\n",
        "          for k in Site1:\n",
        "            EEGs.append(pd.DataFrame(np.hstack([EEG.values, \n",
        "                                                np.vstack([k for i in range(EEG.shape[0])])]),columns=[*cols(j), *list(Site.columns)]))\n",
        "            \n",
        "        except:\n",
        "          c1=Site \n",
        "\n",
        "\"___________________________________________________________________________________________\"  \n",
        "\"___________________________________________________________________________________________\"   \n",
        "if duplicate_names == True:\n",
        "  print (\"The Excel files' name  have duplicates\")\n",
        "  print(duplicate)"
      ],
      "metadata": {
        "colab": {
          "base_uri": "https://localhost:8080/"
        },
        "id": "6f9K-ulX3qdX",
        "outputId": "bec2dd84-5fe3-4d7a-ba4c-2692044115f4"
      },
      "execution_count": null,
      "outputs": [
        {
          "output_type": "stream",
          "name": "stderr",
          "text": [
            "100%|██████████| 420/420 [01:51<00:00,  3.76it/s]\n",
            "100%|██████████| 45/45 [00:01<00:00, 27.41it/s]"
          ]
        },
        {
          "output_type": "stream",
          "name": "stdout",
          "text": [
            "The Excel files' name  have duplicates\n",
            "['135866.xlsx', '170894.xlsx', '191007.xlsx', '201575.xlsx', '203961.xlsx', '218132.xlsx', '218957.xlsx', '227193.xlsx', '234300.xlsx', '245446.xlsx', '258322.xlsx', '296707.xlsx', '325733.xlsx', '334217.xlsx', '348655.xlsx', '353456.xlsx', '354886.xlsx', '369690.xlsx', '377765.xlsx', '388304.xlsx', '465293.xlsx', '465293.xlsx', '494811.xlsx', '514538.xlsx', '525847.xlsx', '537723.xlsx', '640178.xlsx', '674119.xlsx', '685561.xlsx', '325733.xlsx', '354886.xlsx', '218132.xlsx', '369690.xlsx', '348655.xlsx', '234300.xlsx', '685561.xlsx', '465293.xlsx', '377765.xlsx', '526847.xlsx', '494811.xlsx', '465293.xlsx', '537723.xlsx', '191007.xlsx', '203961.xlsx', '353456.xlsx']\n"
          ]
        },
        {
          "output_type": "stream",
          "name": "stderr",
          "text": [
            "\n"
          ]
        }
      ]
    },
    {
      "cell_type": "code",
      "source": [
        "EEGs_Quad_Channel=[]\n",
        "EEGs_Dual_Channel=[]\n",
        "Outlyers=[]\n",
        "c0=0\n",
        "c1=0\n",
        "for j in tqdm(Path_txt):\n",
        "  for i in Xls: \n",
        "    try:\n",
        "      Site = i[1][i[1]['Date']==Date(j.split(',')).strip()]\n",
        "    except:\n",
        "      Site  \n",
        "    if get_patient_id(j)==get_patient_id(i[0]):\n",
        "      EEG = Txt[Path_txt.index(j)]\n",
        "      Site1 = Site.values\n",
        "      for k in Site1:\n",
        "        mat = pd.DataFrame(np.hstack([EEG.values, np.vstack([k for i in range(EEG.shape[0])])]),columns=[*['EEG{}'.format(i) for i in range(EEG.shape[1])], *list(Site.columns)]).dropna(axis = 1, how = 'all')\n",
        "        mat['Patient_id'] = get_patient_id(i[0])\n",
        "        mat['Xls_file_path'] = i[0] \n",
        "        mat['EEG_file_path'] = j\n",
        "        try:                                    \n",
        "          Sexe = i[1]['Sexe'].iloc[0]\n",
        "          Age = i[1]['Age'].iloc[0]\n",
        "          Patho = i[1]['Patho'].iloc[0]\n",
        "          mat['Sexe'].iloc[0] = Sexe\n",
        "          mat['Age'].iloc[0] = Age\n",
        "          mat['Patho'].iloc[0] = Patho\n",
        "          \n",
        "        except:\n",
        "          pass \n",
        "          \n",
        "        if 'EEG1'in list(mat.columns) and 'EEG2'in list(mat.columns) and 'EEG3'  in list(mat.columns):\n",
        "          EEGs_Quad_Channel.append(mat)\n",
        "        if 'EEG0' in list(mat.columns) and 'EEG1' in list(mat.columns) and 'EEG2' not in list(mat.columns):\n",
        "          EEGs_Dual_Channel.append(mat)\n",
        "        if 'EEG1' in list(mat.columns) and 'EEG2' in list(mat.columns) and 'EEG3' not in list(mat.columns):\n",
        "          EEGs_Dual_Channel.append(mat)\n",
        "        if 'EEG0'not in list(mat.columns) and 'EEG1'not in list(mat.columns) and 'EEG2' not in list(mat.columns):\n",
        "          Outlyers.append(mat) \n",
        "        if 'ECG'in list(mat.columns):\n",
        "          Outlyers.append(mat)    \n",
        "\n",
        "         \n",
        "        \n",
        "     "
      ],
      "metadata": {
        "id": "7S6qiBJosO4H",
        "colab": {
          "base_uri": "https://localhost:8080/"
        },
        "outputId": "90b5842c-611e-4ecd-fc52-d14c0119efe4"
      },
      "execution_count": null,
      "outputs": [
        {
          "output_type": "stream",
          "name": "stderr",
          "text": [
            " 24%|██▍       | 100/420 [00:15<00:59,  5.37it/s]/usr/local/lib/python3.7/dist-packages/ipykernel_launcher.py:17: SettingWithCopyWarning: \n",
            "A value is trying to be set on a copy of a slice from a DataFrame.\n",
            "Try using .loc[row_indexer,col_indexer] = value instead\n",
            "\n",
            "See the caveats in the documentation: https://pandas.pydata.org/pandas-docs/stable/user_guide/indexing.html#returning-a-view-versus-a-copy\n",
            " 35%|███▍      | 146/420 [00:22<00:37,  7.26it/s]/usr/local/lib/python3.7/dist-packages/ipykernel_launcher.py:18: SettingWithCopyWarning: \n",
            "A value is trying to be set on a copy of a slice from a DataFrame.\n",
            "Try using .loc[row_indexer,col_indexer] = value instead\n",
            "\n",
            "See the caveats in the documentation: https://pandas.pydata.org/pandas-docs/stable/user_guide/indexing.html#returning-a-view-versus-a-copy\n",
            "/usr/local/lib/python3.7/dist-packages/ipykernel_launcher.py:19: SettingWithCopyWarning: \n",
            "A value is trying to be set on a copy of a slice from a DataFrame.\n",
            "Try using .loc[row_indexer,col_indexer] = value instead\n",
            "\n",
            "See the caveats in the documentation: https://pandas.pydata.org/pandas-docs/stable/user_guide/indexing.html#returning-a-view-versus-a-copy\n",
            "100%|██████████| 420/420 [01:08<00:00,  6.12it/s]\n"
          ]
        }
      ]
    },
    {
      "cell_type": "code",
      "source": [
        "EEGs_Quad_Channel[0]"
      ],
      "metadata": {
        "colab": {
          "base_uri": "https://localhost:8080/",
          "height": 869
        },
        "id": "1fU-pry1QG26",
        "outputId": "8739cedb-7445-4a29-eb2b-7b2392713d49"
      },
      "execution_count": null,
      "outputs": [
        {
          "output_type": "execute_result",
          "data": {
            "text/plain": [
              "        EEG0   EEG1  EEG2  EEG3        Date Ti vs Tt Site      Phase % Charge  \\\n",
              "0       13.3   18.6  -0.1  10.4  01-09-2021       Tt  BiT  Entretien     50.0   \n",
              "1       14.9   21.5   2.4  12.8  01-09-2021       Tt  BiT  Entretien     50.0   \n",
              "2       15.0   22.8   4.3  14.4  01-09-2021       Tt  BiT  Entretien     50.0   \n",
              "3       13.5   22.4   5.1  14.9  01-09-2021       Tt  BiT  Entretien     50.0   \n",
              "4       10.5   20.6   4.4  14.5  01-09-2021       Tt  BiT  Entretien     50.0   \n",
              "...      ...    ...   ...   ...         ...      ...  ...        ...      ...   \n",
              "40841  -30.1  -17.6  -9.0  10.3  01-09-2021       Tt  BiT  Entretien     50.0   \n",
              "40842  -29.3  -17.5  -8.8  10.1  01-09-2021       Tt  BiT  Entretien     50.0   \n",
              "40843  -28.3  -17.1  -8.4   9.3  01-09-2021       Tt  BiT  Entretien     50.0   \n",
              "40844  -27.1  -16.4  -7.8   7.8  01-09-2021       Tt  BiT  Entretien     50.0   \n",
              "40845  -25.9  -15.4  -7.3   6.4  01-09-2021       Tt  BiT  Entretien     50.0   \n",
              "\n",
              "      Durée clinique  Durée EEG Anesthésiant Qualité clinique Qualité EEG  \\\n",
              "0                40.0      70.0        Metho              +++         +++   \n",
              "1                40.0      70.0        Metho              +++         +++   \n",
              "2                40.0      70.0        Metho              +++         +++   \n",
              "3                40.0      70.0        Metho              +++         +++   \n",
              "4                40.0      70.0        Metho              +++         +++   \n",
              "...               ...       ...          ...              ...         ...   \n",
              "40841            40.0      70.0        Metho              +++         +++   \n",
              "40842            40.0      70.0        Metho              +++         +++   \n",
              "40843            40.0      70.0        Metho              +++         +++   \n",
              "40844            40.0      70.0        Metho              +++         +++   \n",
              "40845            40.0      70.0        Metho              +++         +++   \n",
              "\n",
              "      Adranergie Qualité Aplatissement Patient_id  \\\n",
              "0              +                   +++     135866   \n",
              "1              +                   +++     135866   \n",
              "2              +                   +++     135866   \n",
              "3              +                   +++     135866   \n",
              "4              +                   +++     135866   \n",
              "...          ...                   ...        ...   \n",
              "40841          +                   +++     135866   \n",
              "40842          +                   +++     135866   \n",
              "40843          +                   +++     135866   \n",
              "40844          +                   +++     135866   \n",
              "40845          +                   +++     135866   \n",
              "\n",
              "                                           Xls_file_path  \\\n",
              "0      /content/gdrive/My Drive/Sajjad_cloned_ready/1...   \n",
              "1      /content/gdrive/My Drive/Sajjad_cloned_ready/1...   \n",
              "2      /content/gdrive/My Drive/Sajjad_cloned_ready/1...   \n",
              "3      /content/gdrive/My Drive/Sajjad_cloned_ready/1...   \n",
              "4      /content/gdrive/My Drive/Sajjad_cloned_ready/1...   \n",
              "...                                                  ...   \n",
              "40841  /content/gdrive/My Drive/Sajjad_cloned_ready/1...   \n",
              "40842  /content/gdrive/My Drive/Sajjad_cloned_ready/1...   \n",
              "40843  /content/gdrive/My Drive/Sajjad_cloned_ready/1...   \n",
              "40844  /content/gdrive/My Drive/Sajjad_cloned_ready/1...   \n",
              "40845  /content/gdrive/My Drive/Sajjad_cloned_ready/1...   \n",
              "\n",
              "                                           EEG_file_path  \n",
              "0      /content/gdrive/My Drive/Sajjad_cloned_ready/1...  \n",
              "1      /content/gdrive/My Drive/Sajjad_cloned_ready/1...  \n",
              "2      /content/gdrive/My Drive/Sajjad_cloned_ready/1...  \n",
              "3      /content/gdrive/My Drive/Sajjad_cloned_ready/1...  \n",
              "4      /content/gdrive/My Drive/Sajjad_cloned_ready/1...  \n",
              "...                                                  ...  \n",
              "40841  /content/gdrive/My Drive/Sajjad_cloned_ready/1...  \n",
              "40842  /content/gdrive/My Drive/Sajjad_cloned_ready/1...  \n",
              "40843  /content/gdrive/My Drive/Sajjad_cloned_ready/1...  \n",
              "40844  /content/gdrive/My Drive/Sajjad_cloned_ready/1...  \n",
              "40845  /content/gdrive/My Drive/Sajjad_cloned_ready/1...  \n",
              "\n",
              "[40846 rows x 19 columns]"
            ],
            "text/html": [
              "\n",
              "  <div id=\"df-7a7a73ad-b5bc-4dd7-8beb-415a0788352a\">\n",
              "    <div class=\"colab-df-container\">\n",
              "      <div>\n",
              "<style scoped>\n",
              "    .dataframe tbody tr th:only-of-type {\n",
              "        vertical-align: middle;\n",
              "    }\n",
              "\n",
              "    .dataframe tbody tr th {\n",
              "        vertical-align: top;\n",
              "    }\n",
              "\n",
              "    .dataframe thead th {\n",
              "        text-align: right;\n",
              "    }\n",
              "</style>\n",
              "<table border=\"1\" class=\"dataframe\">\n",
              "  <thead>\n",
              "    <tr style=\"text-align: right;\">\n",
              "      <th></th>\n",
              "      <th>EEG0</th>\n",
              "      <th>EEG1</th>\n",
              "      <th>EEG2</th>\n",
              "      <th>EEG3</th>\n",
              "      <th>Date</th>\n",
              "      <th>Ti vs Tt</th>\n",
              "      <th>Site</th>\n",
              "      <th>Phase</th>\n",
              "      <th>% Charge</th>\n",
              "      <th>Durée clinique</th>\n",
              "      <th>Durée EEG</th>\n",
              "      <th>Anesthésiant</th>\n",
              "      <th>Qualité clinique</th>\n",
              "      <th>Qualité EEG</th>\n",
              "      <th>Adranergie</th>\n",
              "      <th>Qualité Aplatissement</th>\n",
              "      <th>Patient_id</th>\n",
              "      <th>Xls_file_path</th>\n",
              "      <th>EEG_file_path</th>\n",
              "    </tr>\n",
              "  </thead>\n",
              "  <tbody>\n",
              "    <tr>\n",
              "      <th>0</th>\n",
              "      <td>13.3</td>\n",
              "      <td>18.6</td>\n",
              "      <td>-0.1</td>\n",
              "      <td>10.4</td>\n",
              "      <td>01-09-2021</td>\n",
              "      <td>Tt</td>\n",
              "      <td>BiT</td>\n",
              "      <td>Entretien</td>\n",
              "      <td>50.0</td>\n",
              "      <td>40.0</td>\n",
              "      <td>70.0</td>\n",
              "      <td>Metho</td>\n",
              "      <td>+++</td>\n",
              "      <td>+++</td>\n",
              "      <td>+</td>\n",
              "      <td>+++</td>\n",
              "      <td>135866</td>\n",
              "      <td>/content/gdrive/My Drive/Sajjad_cloned_ready/1...</td>\n",
              "      <td>/content/gdrive/My Drive/Sajjad_cloned_ready/1...</td>\n",
              "    </tr>\n",
              "    <tr>\n",
              "      <th>1</th>\n",
              "      <td>14.9</td>\n",
              "      <td>21.5</td>\n",
              "      <td>2.4</td>\n",
              "      <td>12.8</td>\n",
              "      <td>01-09-2021</td>\n",
              "      <td>Tt</td>\n",
              "      <td>BiT</td>\n",
              "      <td>Entretien</td>\n",
              "      <td>50.0</td>\n",
              "      <td>40.0</td>\n",
              "      <td>70.0</td>\n",
              "      <td>Metho</td>\n",
              "      <td>+++</td>\n",
              "      <td>+++</td>\n",
              "      <td>+</td>\n",
              "      <td>+++</td>\n",
              "      <td>135866</td>\n",
              "      <td>/content/gdrive/My Drive/Sajjad_cloned_ready/1...</td>\n",
              "      <td>/content/gdrive/My Drive/Sajjad_cloned_ready/1...</td>\n",
              "    </tr>\n",
              "    <tr>\n",
              "      <th>2</th>\n",
              "      <td>15.0</td>\n",
              "      <td>22.8</td>\n",
              "      <td>4.3</td>\n",
              "      <td>14.4</td>\n",
              "      <td>01-09-2021</td>\n",
              "      <td>Tt</td>\n",
              "      <td>BiT</td>\n",
              "      <td>Entretien</td>\n",
              "      <td>50.0</td>\n",
              "      <td>40.0</td>\n",
              "      <td>70.0</td>\n",
              "      <td>Metho</td>\n",
              "      <td>+++</td>\n",
              "      <td>+++</td>\n",
              "      <td>+</td>\n",
              "      <td>+++</td>\n",
              "      <td>135866</td>\n",
              "      <td>/content/gdrive/My Drive/Sajjad_cloned_ready/1...</td>\n",
              "      <td>/content/gdrive/My Drive/Sajjad_cloned_ready/1...</td>\n",
              "    </tr>\n",
              "    <tr>\n",
              "      <th>3</th>\n",
              "      <td>13.5</td>\n",
              "      <td>22.4</td>\n",
              "      <td>5.1</td>\n",
              "      <td>14.9</td>\n",
              "      <td>01-09-2021</td>\n",
              "      <td>Tt</td>\n",
              "      <td>BiT</td>\n",
              "      <td>Entretien</td>\n",
              "      <td>50.0</td>\n",
              "      <td>40.0</td>\n",
              "      <td>70.0</td>\n",
              "      <td>Metho</td>\n",
              "      <td>+++</td>\n",
              "      <td>+++</td>\n",
              "      <td>+</td>\n",
              "      <td>+++</td>\n",
              "      <td>135866</td>\n",
              "      <td>/content/gdrive/My Drive/Sajjad_cloned_ready/1...</td>\n",
              "      <td>/content/gdrive/My Drive/Sajjad_cloned_ready/1...</td>\n",
              "    </tr>\n",
              "    <tr>\n",
              "      <th>4</th>\n",
              "      <td>10.5</td>\n",
              "      <td>20.6</td>\n",
              "      <td>4.4</td>\n",
              "      <td>14.5</td>\n",
              "      <td>01-09-2021</td>\n",
              "      <td>Tt</td>\n",
              "      <td>BiT</td>\n",
              "      <td>Entretien</td>\n",
              "      <td>50.0</td>\n",
              "      <td>40.0</td>\n",
              "      <td>70.0</td>\n",
              "      <td>Metho</td>\n",
              "      <td>+++</td>\n",
              "      <td>+++</td>\n",
              "      <td>+</td>\n",
              "      <td>+++</td>\n",
              "      <td>135866</td>\n",
              "      <td>/content/gdrive/My Drive/Sajjad_cloned_ready/1...</td>\n",
              "      <td>/content/gdrive/My Drive/Sajjad_cloned_ready/1...</td>\n",
              "    </tr>\n",
              "    <tr>\n",
              "      <th>...</th>\n",
              "      <td>...</td>\n",
              "      <td>...</td>\n",
              "      <td>...</td>\n",
              "      <td>...</td>\n",
              "      <td>...</td>\n",
              "      <td>...</td>\n",
              "      <td>...</td>\n",
              "      <td>...</td>\n",
              "      <td>...</td>\n",
              "      <td>...</td>\n",
              "      <td>...</td>\n",
              "      <td>...</td>\n",
              "      <td>...</td>\n",
              "      <td>...</td>\n",
              "      <td>...</td>\n",
              "      <td>...</td>\n",
              "      <td>...</td>\n",
              "      <td>...</td>\n",
              "      <td>...</td>\n",
              "    </tr>\n",
              "    <tr>\n",
              "      <th>40841</th>\n",
              "      <td>-30.1</td>\n",
              "      <td>-17.6</td>\n",
              "      <td>-9.0</td>\n",
              "      <td>10.3</td>\n",
              "      <td>01-09-2021</td>\n",
              "      <td>Tt</td>\n",
              "      <td>BiT</td>\n",
              "      <td>Entretien</td>\n",
              "      <td>50.0</td>\n",
              "      <td>40.0</td>\n",
              "      <td>70.0</td>\n",
              "      <td>Metho</td>\n",
              "      <td>+++</td>\n",
              "      <td>+++</td>\n",
              "      <td>+</td>\n",
              "      <td>+++</td>\n",
              "      <td>135866</td>\n",
              "      <td>/content/gdrive/My Drive/Sajjad_cloned_ready/1...</td>\n",
              "      <td>/content/gdrive/My Drive/Sajjad_cloned_ready/1...</td>\n",
              "    </tr>\n",
              "    <tr>\n",
              "      <th>40842</th>\n",
              "      <td>-29.3</td>\n",
              "      <td>-17.5</td>\n",
              "      <td>-8.8</td>\n",
              "      <td>10.1</td>\n",
              "      <td>01-09-2021</td>\n",
              "      <td>Tt</td>\n",
              "      <td>BiT</td>\n",
              "      <td>Entretien</td>\n",
              "      <td>50.0</td>\n",
              "      <td>40.0</td>\n",
              "      <td>70.0</td>\n",
              "      <td>Metho</td>\n",
              "      <td>+++</td>\n",
              "      <td>+++</td>\n",
              "      <td>+</td>\n",
              "      <td>+++</td>\n",
              "      <td>135866</td>\n",
              "      <td>/content/gdrive/My Drive/Sajjad_cloned_ready/1...</td>\n",
              "      <td>/content/gdrive/My Drive/Sajjad_cloned_ready/1...</td>\n",
              "    </tr>\n",
              "    <tr>\n",
              "      <th>40843</th>\n",
              "      <td>-28.3</td>\n",
              "      <td>-17.1</td>\n",
              "      <td>-8.4</td>\n",
              "      <td>9.3</td>\n",
              "      <td>01-09-2021</td>\n",
              "      <td>Tt</td>\n",
              "      <td>BiT</td>\n",
              "      <td>Entretien</td>\n",
              "      <td>50.0</td>\n",
              "      <td>40.0</td>\n",
              "      <td>70.0</td>\n",
              "      <td>Metho</td>\n",
              "      <td>+++</td>\n",
              "      <td>+++</td>\n",
              "      <td>+</td>\n",
              "      <td>+++</td>\n",
              "      <td>135866</td>\n",
              "      <td>/content/gdrive/My Drive/Sajjad_cloned_ready/1...</td>\n",
              "      <td>/content/gdrive/My Drive/Sajjad_cloned_ready/1...</td>\n",
              "    </tr>\n",
              "    <tr>\n",
              "      <th>40844</th>\n",
              "      <td>-27.1</td>\n",
              "      <td>-16.4</td>\n",
              "      <td>-7.8</td>\n",
              "      <td>7.8</td>\n",
              "      <td>01-09-2021</td>\n",
              "      <td>Tt</td>\n",
              "      <td>BiT</td>\n",
              "      <td>Entretien</td>\n",
              "      <td>50.0</td>\n",
              "      <td>40.0</td>\n",
              "      <td>70.0</td>\n",
              "      <td>Metho</td>\n",
              "      <td>+++</td>\n",
              "      <td>+++</td>\n",
              "      <td>+</td>\n",
              "      <td>+++</td>\n",
              "      <td>135866</td>\n",
              "      <td>/content/gdrive/My Drive/Sajjad_cloned_ready/1...</td>\n",
              "      <td>/content/gdrive/My Drive/Sajjad_cloned_ready/1...</td>\n",
              "    </tr>\n",
              "    <tr>\n",
              "      <th>40845</th>\n",
              "      <td>-25.9</td>\n",
              "      <td>-15.4</td>\n",
              "      <td>-7.3</td>\n",
              "      <td>6.4</td>\n",
              "      <td>01-09-2021</td>\n",
              "      <td>Tt</td>\n",
              "      <td>BiT</td>\n",
              "      <td>Entretien</td>\n",
              "      <td>50.0</td>\n",
              "      <td>40.0</td>\n",
              "      <td>70.0</td>\n",
              "      <td>Metho</td>\n",
              "      <td>+++</td>\n",
              "      <td>+++</td>\n",
              "      <td>+</td>\n",
              "      <td>+++</td>\n",
              "      <td>135866</td>\n",
              "      <td>/content/gdrive/My Drive/Sajjad_cloned_ready/1...</td>\n",
              "      <td>/content/gdrive/My Drive/Sajjad_cloned_ready/1...</td>\n",
              "    </tr>\n",
              "  </tbody>\n",
              "</table>\n",
              "<p>40846 rows × 19 columns</p>\n",
              "</div>\n",
              "      <button class=\"colab-df-convert\" onclick=\"convertToInteractive('df-7a7a73ad-b5bc-4dd7-8beb-415a0788352a')\"\n",
              "              title=\"Convert this dataframe to an interactive table.\"\n",
              "              style=\"display:none;\">\n",
              "        \n",
              "  <svg xmlns=\"http://www.w3.org/2000/svg\" height=\"24px\"viewBox=\"0 0 24 24\"\n",
              "       width=\"24px\">\n",
              "    <path d=\"M0 0h24v24H0V0z\" fill=\"none\"/>\n",
              "    <path d=\"M18.56 5.44l.94 2.06.94-2.06 2.06-.94-2.06-.94-.94-2.06-.94 2.06-2.06.94zm-11 1L8.5 8.5l.94-2.06 2.06-.94-2.06-.94L8.5 2.5l-.94 2.06-2.06.94zm10 10l.94 2.06.94-2.06 2.06-.94-2.06-.94-.94-2.06-.94 2.06-2.06.94z\"/><path d=\"M17.41 7.96l-1.37-1.37c-.4-.4-.92-.59-1.43-.59-.52 0-1.04.2-1.43.59L10.3 9.45l-7.72 7.72c-.78.78-.78 2.05 0 2.83L4 21.41c.39.39.9.59 1.41.59.51 0 1.02-.2 1.41-.59l7.78-7.78 2.81-2.81c.8-.78.8-2.07 0-2.86zM5.41 20L4 18.59l7.72-7.72 1.47 1.35L5.41 20z\"/>\n",
              "  </svg>\n",
              "      </button>\n",
              "      \n",
              "  <style>\n",
              "    .colab-df-container {\n",
              "      display:flex;\n",
              "      flex-wrap:wrap;\n",
              "      gap: 12px;\n",
              "    }\n",
              "\n",
              "    .colab-df-convert {\n",
              "      background-color: #E8F0FE;\n",
              "      border: none;\n",
              "      border-radius: 50%;\n",
              "      cursor: pointer;\n",
              "      display: none;\n",
              "      fill: #1967D2;\n",
              "      height: 32px;\n",
              "      padding: 0 0 0 0;\n",
              "      width: 32px;\n",
              "    }\n",
              "\n",
              "    .colab-df-convert:hover {\n",
              "      background-color: #E2EBFA;\n",
              "      box-shadow: 0px 1px 2px rgba(60, 64, 67, 0.3), 0px 1px 3px 1px rgba(60, 64, 67, 0.15);\n",
              "      fill: #174EA6;\n",
              "    }\n",
              "\n",
              "    [theme=dark] .colab-df-convert {\n",
              "      background-color: #3B4455;\n",
              "      fill: #D2E3FC;\n",
              "    }\n",
              "\n",
              "    [theme=dark] .colab-df-convert:hover {\n",
              "      background-color: #434B5C;\n",
              "      box-shadow: 0px 1px 3px 1px rgba(0, 0, 0, 0.15);\n",
              "      filter: drop-shadow(0px 1px 2px rgba(0, 0, 0, 0.3));\n",
              "      fill: #FFFFFF;\n",
              "    }\n",
              "  </style>\n",
              "\n",
              "      <script>\n",
              "        const buttonEl =\n",
              "          document.querySelector('#df-7a7a73ad-b5bc-4dd7-8beb-415a0788352a button.colab-df-convert');\n",
              "        buttonEl.style.display =\n",
              "          google.colab.kernel.accessAllowed ? 'block' : 'none';\n",
              "\n",
              "        async function convertToInteractive(key) {\n",
              "          const element = document.querySelector('#df-7a7a73ad-b5bc-4dd7-8beb-415a0788352a');\n",
              "          const dataTable =\n",
              "            await google.colab.kernel.invokeFunction('convertToInteractive',\n",
              "                                                     [key], {});\n",
              "          if (!dataTable) return;\n",
              "\n",
              "          const docLinkHtml = 'Like what you see? Visit the ' +\n",
              "            '<a target=\"_blank\" href=https://colab.research.google.com/notebooks/data_table.ipynb>data table notebook</a>'\n",
              "            + ' to learn more about interactive tables.';\n",
              "          element.innerHTML = '';\n",
              "          dataTable['output_type'] = 'display_data';\n",
              "          await google.colab.output.renderOutput(dataTable, element);\n",
              "          const docLink = document.createElement('div');\n",
              "          docLink.innerHTML = docLinkHtml;\n",
              "          element.appendChild(docLink);\n",
              "        }\n",
              "      </script>\n",
              "    </div>\n",
              "  </div>\n",
              "  "
            ]
          },
          "metadata": {},
          "execution_count": 161
        }
      ]
    },
    {
      "cell_type": "code",
      "source": [
        "# i =25\n",
        "# s= EEGs_Quad_Channel[i]['EEG1'].astype(float)[EEGs_Quad_Channel[i]['EEG1'].astype(float) ==EEGs_Quad_Channel[i]['EEG1'].astype(float).max()].index[0]\n",
        "# t= EEGs_Quad_Channel[i]['EEG1'].astype(float)[EEGs_Quad_Channel[i]['EEG1'].astype(float) ==EEGs_Quad_Channel[i]['EEG1'].astype(float).min()].index[0]\n",
        "\n",
        "# if s-300>0 and s+300<EEGs_Quad_Channel[i].shape[0] :\n",
        "#   print(s, t)\n",
        "#   EEGs_Quad_Channel[i]['EEG1'].astype(float)[s-300:s+300].plot(figsize=(15,10))\n",
        "# else: \n",
        "#   print(s, t,EEGs_Quad_Channel[i]['EEG_file_path'][0])"
      ],
      "metadata": {
        "id": "TtJkJkoQ76Lm"
      },
      "execution_count": null,
      "outputs": []
    },
    {
      "cell_type": "code",
      "source": [
        "# Preshock and postshock seperation and concatenation\n",
        "\n",
        "cols = ['index', 'EEG0', 'EEG1', 'EEG2', 'EEG3','Post_EEG0', 'Post_EEG1', 'Post_EEG2', 'Post_EEG3', 'Date', 'Ti vs Tt', 'Site',\n",
        "       'Phase', '% Charge', 'Durée clinique ', 'Durée EEG', 'Anesthésiant',\n",
        "       'Qualité clinique', 'Qualité EEG', 'Adranergie',\n",
        "       'Qualité Aplatissement', 'Patient_id', 'Xls_file_path', 'EEG_file_path']\n",
        "#=============================================================================================#\n",
        "Pre_shock1 = [EEGs_Quad_Channel[i].iloc[0:min(EEGs_Quad_Channel[i]['EEG2'].astype(float)[EEGs_Quad_Channel[i]['EEG2'].astype(float) ==EEGs_Quad_Channel[i]['EEG2'].astype(float).max()].index[0],\n",
        "                                              EEGs_Quad_Channel[i]['EEG0'].astype(float)[EEGs_Quad_Channel[i]['EEG0'].astype(float) ==EEGs_Quad_Channel[i]['EEG0'].astype(float).max()].index[0],\n",
        "                                              EEGs_Quad_Channel[i]['EEG1'].astype(float)[EEGs_Quad_Channel[i]['EEG1'].astype(float) ==EEGs_Quad_Channel[i]['EEG1'].astype(float).max()].index[0],\n",
        "                                              EEGs_Quad_Channel[i]['EEG3'].astype(float)[EEGs_Quad_Channel[i]['EEG3'].astype(float) ==EEGs_Quad_Channel[i]['EEG3'].astype(float).max()].index[0])].reset_index() for i in range(403)]\n",
        "Post_shock1 = [EEGs_Quad_Channel[i].iloc[-1000:-1].reset_index() for i in range(403)]\n",
        "#=============================================================================================#\n",
        "\n",
        "for i in range(403):\n",
        "  Pre_shock1[i]['Post_EEG0'] = Post_shock1[i]['EEG0'] \n",
        "  Pre_shock1[i]['Post_EEG1'] = Post_shock1[i]['EEG1'] \n",
        "  Pre_shock1[i]['Post_EEG2'] = Post_shock1[i]['EEG2'] \n",
        "  Pre_shock1[i]['Post_EEG3'] = Post_shock1[i]['EEG3'] \n",
        "  Pre_shock1[i] = Pre_shock1[i].reindex(columns = cols)\n",
        "  "
      ],
      "metadata": {
        "id": "MG8kNYJ6dWSp"
      },
      "execution_count": null,
      "outputs": []
    },
    {
      "cell_type": "code",
      "source": [
        "Frontal = []\n",
        "Temporal = []\n",
        "\n",
        "for i in range(len(EEGs_Quad_Channel)):\n",
        "  if Pre_shock1[i]['Site'].iloc[0]=='BiF':\n",
        "    Frontal.append(EEGs_Quad_Channel[i])\n",
        "\n",
        "  if Pre_shock1[i]['Site'].iloc[0]=='BiT':\n",
        "    Temporal.append(EEGs_Quad_Channel[i])"
      ],
      "metadata": {
        "id": "fhe2aZj9TQhO"
      },
      "execution_count": null,
      "outputs": []
    },
    {
      "cell_type": "code",
      "source": [
        "Temporal[4]['EEG0'].astype(float).plot()"
      ],
      "metadata": {
        "colab": {
          "base_uri": "https://localhost:8080/",
          "height": 282
        },
        "id": "Ck6sI2g0UtKX",
        "outputId": "ea4e01ed-b555-4c50-c1a0-26e7c0107e64"
      },
      "execution_count": null,
      "outputs": [
        {
          "output_type": "execute_result",
          "data": {
            "text/plain": [
              "<matplotlib.axes._subplots.AxesSubplot at 0x7f6b756c9350>"
            ]
          },
          "metadata": {},
          "execution_count": 10
        },
        {
          "output_type": "display_data",
          "data": {
            "text/plain": [
              "<Figure size 432x288 with 1 Axes>"
            ],
            "image/png": "[encoded data removed]"
          },
          "metadata": {
            "needs_background": "light"
          }
        }
      ]
    },
    {
      "cell_type": "code",
      "source": [
        "Pre_shock1[1]['EEG3'].iloc[-4000:-1].astype(float).plot()"
      ],
      "metadata": {
        "colab": {
          "base_uri": "https://localhost:8080/",
          "height": 282
        },
        "id": "f_GxsxqMSnAX",
        "outputId": "0717fd7c-dd95-45bd-ba4b-b96c832264b9"
      },
      "execution_count": null,
      "outputs": [
        {
          "output_type": "execute_result",
          "data": {
            "text/plain": [
              "<matplotlib.axes._subplots.AxesSubplot at 0x7f379240ecd0>"
            ]
          },
          "metadata": {},
          "execution_count": 20
        },
        {
          "output_type": "display_data",
          "data": {
            "text/plain": [
              "<Figure size 432x288 with 1 Axes>"
            ],
            "image/png": "[encoded data removed]"
          },
          "metadata": {
            "needs_background": "light"
          }
        }
      ]
    },
    {
      "cell_type": "code",
      "source": [
        "Pre_post_shock = pd.concat(Pre_shock1, axis=0)"
      ],
      "metadata": {
        "id": "vb_bYo8Cfr9z"
      },
      "execution_count": null,
      "outputs": []
    },
    {
      "cell_type": "markdown",
      "source": [
        "Quad channel success rate"
      ],
      "metadata": {
        "id": "Ky4xfm1wILoL"
      }
    },
    {
      "cell_type": "code",
      "source": [
        "G =[]\n",
        "B =[]\n",
        "\n",
        "for j in range (100):\n",
        "  g = [Pre_shock1[i] for i in range(403) if Pre_shock1[i]['% Charge'].iloc[0]==j and Pre_shock1[i]['Qualité EEG'].iloc[0]=='+']\n",
        "  g1 = [Pre_shock1[i] for i in range(403) if Pre_shock1[i]['% Charge'].iloc[0]==j and Pre_shock1[i]['Qualité EEG'].iloc[0]=='++']\n",
        "  g2 = [Pre_shock1[i] for i in range(403) if Pre_shock1[i]['% Charge'].iloc[0]==j and Pre_shock1[i]['Qualité EEG'].iloc[0]=='+++']\n",
        "\n",
        "  b = [Pre_shock1[i] for i in range(403) if Pre_shock1[i]['% Charge'].iloc[0]==j and Pre_shock1[i]['Qualité EEG'].iloc[0]=='-']\n",
        "  G.append(len(g)+len(g1)+len(g2))\n",
        "  B.append(len(b))\n",
        "plt.figure(figsize=(15,5))\n",
        "plt.plot(G, color ='G')\n",
        "plt.plot(B, color ='R')  \n",
        "plt.grid()\n",
        "plt.show()"
      ],
      "metadata": {
        "colab": {
          "base_uri": "https://localhost:8080/",
          "height": 375
        },
        "id": "gg9-oW6U5ewH",
        "outputId": "481fd6d8-359d-4ae2-f788-722206eb04f9"
      },
      "execution_count": null,
      "outputs": [
        {
          "output_type": "stream",
          "name": "stderr",
          "text": [
            "/usr/local/lib/python3.7/dist-packages/IPython/core/pylabtools.py:128: MatplotlibDeprecationWarning: Support for uppercase single-letter colors is deprecated since Matplotlib 3.1 and will be removed in 3.3; please use lowercase instead.\n",
            "  fig.canvas.print_figure(bytes_io, **kw)\n"
          ]
        },
        {
          "output_type": "display_data",
          "data": {
            "text/plain": [
              "<Figure size 1080x360 with 1 Axes>"
            ],
            "image/png": "[encoded data removed]"
          },
          "metadata": {
            "needs_background": "light"
          }
        }
      ]
    },
    {
      "cell_type": "code",
      "source": [
        "G =[]\n",
        "B =[]\n",
        "\n",
        "for j in range (100):\n",
        "  g = [Pre_shock1[i] for i in range(403) if Pre_shock1[i]['% Charge'].iloc[0]==j and Pre_shock1[i]['Qualité clinique'].iloc[0]=='+']\n",
        "  g1 = [Pre_shock1[i] for i in range(403) if Pre_shock1[i]['% Charge'].iloc[0]==j and Pre_shock1[i]['Qualité clinique'].iloc[0]=='++']\n",
        "  g2 = [Pre_shock1[i] for i in range(403) if Pre_shock1[i]['% Charge'].iloc[0]==j and Pre_shock1[i]['Qualité clinique'].iloc[0]=='+++']\n",
        "\n",
        "  b = [Pre_shock1[i] for i in range(403) if Pre_shock1[i]['% Charge'].iloc[0]==j and Pre_shock1[i]['Qualité clinique'].iloc[0]=='-']\n",
        "  G.append(len(g)+len(g1)+len(g2))\n",
        "  B.append(len(b))\n",
        "plt.figure(figsize=(15,5))\n",
        "plt.plot(G, color ='G')\n",
        "plt.plot(B, color ='R')  \n",
        "plt.grid()\n",
        "plt.show()"
      ],
      "metadata": {
        "colab": {
          "base_uri": "https://localhost:8080/",
          "height": 320
        },
        "id": "Lo9meUaNXraD",
        "outputId": "c7d1bddb-d256-4b2f-f3f4-8308bad5905b"
      },
      "execution_count": null,
      "outputs": [
        {
          "output_type": "display_data",
          "data": {
            "text/plain": [
              "<Figure size 1080x360 with 1 Axes>"
            ],
            "image/png": "[encoded data removed]"
          },
          "metadata": {
            "needs_background": "light"
          }
        }
      ]
    },
    {
      "cell_type": "code",
      "source": [
        "Good_titration=[]\n",
        "Bad_titration=[]\n",
        "\n",
        "for i in Pre_shock1:\n",
        "  if i['% Charge'].iloc[0]==30 and i['Qualité clinique'].iloc[0]=='+++':\n",
        "    Good_titration.append(i)\n",
        "  if i['% Charge'].iloc[0]==30 and i['Qualité clinique'].iloc[0]=='-':\n",
        "    Bad_titration.append(i)  "
      ],
      "metadata": {
        "id": "VLF6kEuljaKs"
      },
      "execution_count": null,
      "outputs": []
    },
    {
      "cell_type": "code",
      "source": [
        "Good_titration=[]\n",
        "Bad_titration=[]\n",
        "\n",
        "for i in Pre_shock1:\n",
        "  if i['% Charge'].iloc[0]==30 and i['Qualité clinique'].iloc[0]=='+++':\n",
        "    Good_titration.append(i)\n",
        "  if i['% Charge'].iloc[0]==30 and i['Qualité clinique'].iloc[0]=='-':\n",
        "    Bad_titration.append(i)  "
      ],
      "metadata": {
        "id": "XghNFzpWK4wI"
      },
      "execution_count": null,
      "outputs": []
    },
    {
      "cell_type": "code",
      "source": [
        "import matplotlib.pyplot as plt\n",
        "import numpy as np\n",
        "import scipy.fftpack\n",
        "n=0\n",
        "# Number of sample points\n",
        "N = 128\n",
        "# sample spacing\n",
        "T = 1.0 / 100\n",
        "x = np.linspace(0.0, N*T, N)\n",
        "y = Good_titration[n]['EEG1'].values.astype(float)\n",
        "y1 = Bad_titration[n]['EEG1'].values.astype(float)\n",
        "yf = scipy.fftpack.fft(y)\n",
        "y1f = scipy.fftpack.fft(y1)\n",
        "xf = np.linspace(0.0, 1.0//(2.0*T), N//2)\n",
        "\n",
        "fig, ax = plt.subplots(figsize = (12,5))\n",
        "ax.bar(xf, 2.0/N * np.abs(yf[:N//2]),width=0.1, color ='g')\n",
        "ax.bar(xf, 2.0/N * np.abs(y1f[:N//2]),width=0.2 ,color ='orange')\n",
        "plt.show()"
      ],
      "metadata": {
        "colab": {
          "base_uri": "https://localhost:8080/",
          "height": 320
        },
        "id": "Yol-CQtB6Ps_",
        "outputId": "005e9873-e954-4961-97c4-81815cd297a5"
      },
      "execution_count": null,
      "outputs": [
        {
          "output_type": "display_data",
          "data": {
            "text/plain": [
              "<Figure size 864x360 with 1 Axes>"
            ],
            "image/png": "[encoded data removed]"
          },
          "metadata": {
            "needs_background": "light"
          }
        }
      ]
    },
    {
      "cell_type": "markdown",
      "source": [
        "#Neural Test"
      ],
      "metadata": {
        "id": "SUSRBC27PKtr"
      }
    },
    {
      "cell_type": "code",
      "source": [
        "yf.shape"
      ],
      "metadata": {
        "colab": {
          "base_uri": "https://localhost:8080/"
        },
        "id": "opA3kRPNdT_y",
        "outputId": "afb8f73d-aeec-4ec1-f69c-80021d28ee40"
      },
      "execution_count": null,
      "outputs": [
        {
          "output_type": "execute_result",
          "data": {
            "text/plain": [
              "(19598,)"
            ]
          },
          "metadata": {},
          "execution_count": 68
        }
      ]
    },
    {
      "cell_type": "code",
      "source": [
        "Good_titration=[]\n",
        "Bad_titration=[]\n",
        "\n",
        "for i in Pre_shock1:\n",
        "  if i['% Charge'].iloc[0]==30 and i['Qualité clinique'].iloc[0]=='+++':\n",
        "    Good_titration.append(i)\n",
        "  if i['% Charge'].iloc[0]==30 and i['Qualité clinique'].iloc[0]=='-':\n",
        "    Bad_titration.append(i)  \n",
        "#========================================================================================    \n",
        "FFT_Good_30=[]\n",
        "FFT_Bad_30=[]\n",
        "FFT_Good_30_quad=[]\n",
        "FFT_Bad_30_quad=[]\n",
        "for j in range(1,4):\n",
        "  for i in range (len(Good_titration)):\n",
        "    FFT_Good_30.append(scipy.fftpack.fft(Good_titration[i]['EEG{}'.format(j)].values.astype(float)))\n",
        "  FFT_Good_30_quad.append(np.array(FFT_Good_30))\n",
        "  FFT_Good_30=[]\n",
        "#==============================================================================\n",
        "for j in range(1,4):\n",
        "  for i in range (len(Bad_titration)):\n",
        "    FFT_Bad_30.append(scipy.fftpack.fft(Bad_titration[i]['EEG{}'.format(j)].values.astype(float)))\n",
        "    \n",
        "  FFT_Bad_30_quad.append(np.array(FFT_Bad_30))\n",
        "  FFT_Bad_30=[]  \n",
        "FFT_Good_30_quad=np.stack(FFT_Good_30_quad, axis=1)\n",
        "FFT_Bad_30_quad=np.stack(FFT_Bad_30_quad, axis=1)"
      ],
      "metadata": {
        "colab": {
          "base_uri": "https://localhost:8080/"
        },
        "id": "Mp6zLEQJPMy_",
        "outputId": "5286093c-5336-453a-fb09-df955b3c30ea"
      },
      "execution_count": null,
      "outputs": [
        {
          "output_type": "stream",
          "name": "stderr",
          "text": [
            "/usr/local/lib/python3.7/dist-packages/ipykernel_launcher.py:8: VisibleDeprecationWarning: Creating an ndarray from ragged nested sequences (which is a list-or-tuple of lists-or-tuples-or ndarrays with different lengths or shapes) is deprecated. If you meant to do this, you must specify 'dtype=object' when creating the ndarray.\n",
            "  \n",
            "/usr/local/lib/python3.7/dist-packages/ipykernel_launcher.py:15: VisibleDeprecationWarning: Creating an ndarray from ragged nested sequences (which is a list-or-tuple of lists-or-tuples-or ndarrays with different lengths or shapes) is deprecated. If you meant to do this, you must specify 'dtype=object' when creating the ndarray.\n",
            "  from ipykernel import kernelapp as app\n"
          ]
        }
      ]
    },
    {
      "cell_type": "code",
      "source": [
        "plt.plot([np.mean(FFT_Good_30_quad[i][0][0:10]) for i in range(23)])\n",
        "plt.plot([np.mean(FFT_Bad_30_quad[i][0][0:10]) for i in range(6)])"
      ],
      "metadata": {
        "colab": {
          "base_uri": "https://localhost:8080/",
          "height": 282
        },
        "id": "6yGytHQtx7aR",
        "outputId": "d4a41161-a939-4894-a5d6-0cb97bd245fe"
      },
      "execution_count": null,
      "outputs": [
        {
          "output_type": "execute_result",
          "data": {
            "text/plain": [
              "[<matplotlib.lines.Line2D at 0x7f6b641fbe90>]"
            ]
          },
          "metadata": {},
          "execution_count": 125
        },
        {
          "output_type": "display_data",
          "data": {
            "text/plain": [
              "<Figure size 432x288 with 1 Axes>"
            ],
            "image/png": "[encoded data removed]"
          },
          "metadata": {
            "needs_background": "light"
          }
        }
      ]
    },
    {
      "cell_type": "code",
      "source": [
        "Good_titration=[]\n",
        "Bad_titration=[]\n",
        "\n",
        "for i in Pre_shock1:\n",
        "  if i['% Charge'].iloc[0]==50 and i['Qualité clinique'].iloc[0]=='+++':\n",
        "    Good_titration.append(i)\n",
        "  if i['% Charge'].iloc[0]==50 and i['Qualité clinique'].iloc[0]=='-':\n",
        "    Bad_titration.append(i)  \n",
        "#========================================================================================    \n",
        "FFT_Good_50=[]\n",
        "FFT_Bad_50=[]\n",
        "FFT_Good_50_quad=[]\n",
        "FFT_Bad_50_quad=[]\n",
        "for j in range(1,4):\n",
        "  for i in range (len(Good_titration)):\n",
        "    FFT_Good_50.append(scipy.fftpack.fft(Good_titration[i]['EEG{}'.format(j)].values.astype(float)))\n",
        "  FFT_Good_50_quad.append(np.array(FFT_Good_50))\n",
        "  FFT_Good_50=[]\n",
        "#==============================================================================\n",
        "for j in range(1,4):\n",
        "  for i in range (len(Bad_titration)):\n",
        "    FFT_Bad_50.append(scipy.fftpack.fft(Bad_titration[i]['EEG{}'.format(j)].values.astype(float)))\n",
        "    \n",
        "  FFT_Bad_50_quad.append(np.array(FFT_Bad_50))\n",
        "  FFT_Bad_50=[]  \n",
        "FFT_Good_50_quad=np.stack(FFT_Good_50_quad, axis=1)\n",
        "FFT_Bad_50_quad=np.stack(FFT_Bad_50_quad, axis=1)\n",
        "\n",
        "#======================================================================================================\n",
        "\n",
        "plt.plot([np.mean(FFT_Good_50_quad[i][0][20:30]) for i in range(FFT_Good_50_quad.shape[0])])\n",
        "\n",
        "plt.plot([np.mean(FFT_Bad_50_quad[i][0][20:30]) for i in range(FFT_Bad_50_quad.shape[0])])\n"
      ],
      "metadata": {
        "colab": {
          "base_uri": "https://localhost:8080/",
          "height": 406
        },
        "id": "nXpXZQs_9Znh",
        "outputId": "21769aee-f05e-4145-a54f-30987e53ac45"
      },
      "execution_count": null,
      "outputs": [
        {
          "output_type": "stream",
          "name": "stderr",
          "text": [
            "/usr/local/lib/python3.7/dist-packages/ipykernel_launcher.py:17: VisibleDeprecationWarning: Creating an ndarray from ragged nested sequences (which is a list-or-tuple of lists-or-tuples-or ndarrays with different lengths or shapes) is deprecated. If you meant to do this, you must specify 'dtype=object' when creating the ndarray.\n",
            "/usr/local/lib/python3.7/dist-packages/ipykernel_launcher.py:24: VisibleDeprecationWarning: Creating an ndarray from ragged nested sequences (which is a list-or-tuple of lists-or-tuples-or ndarrays with different lengths or shapes) is deprecated. If you meant to do this, you must specify 'dtype=object' when creating the ndarray.\n",
            "/usr/local/lib/python3.7/dist-packages/numpy/core/fromnumeric.py:3441: RuntimeWarning: Mean of empty slice.\n",
            "  out=out, **kwargs)\n",
            "/usr/local/lib/python3.7/dist-packages/numpy/core/_methods.py:189: RuntimeWarning: invalid value encountered in cdouble_scalars\n",
            "  ret = ret.dtype.type(ret / rcount)\n"
          ]
        },
        {
          "output_type": "execute_result",
          "data": {
            "text/plain": [
              "[<matplotlib.lines.Line2D at 0x7f6b63a2a890>]"
            ]
          },
          "metadata": {},
          "execution_count": 155
        },
        {
          "output_type": "display_data",
          "data": {
            "text/plain": [
              "<Figure size 432x288 with 1 Axes>"
            ],
            "image/png": "[encoded data removed]"
          },
          "metadata": {
            "needs_background": "light"
          }
        }
      ]
    },
    {
      "cell_type": "code",
      "source": [
        "Good_titration=[]\n",
        "Bad_titration=[]\n",
        "\n",
        "for i in Pre_shock1:\n",
        "  if i['Qualité clinique'].iloc[0]=='+++':\n",
        "    Good_titration.append(i)\n",
        "  if i['Qualité clinique'].iloc[0]=='-':\n",
        "    Bad_titration.append(i)  \n",
        "#========================================================================================    \n",
        "FFT_Good_50=[]\n",
        "FFT_Bad_50=[]\n",
        "FFT_Good_50_quad=[]\n",
        "FFT_Bad_50_quad=[]\n",
        "for j in range(1,4):\n",
        "  for i in range (len(Good_titration)):\n",
        "    FFT_Good_50.append(scipy.fftpack.fft(Good_titration[i]['EEG{}'.format(j)].values.astype(float)))\n",
        "  FFT_Good_50_quad.append(np.array(FFT_Good_50))\n",
        "  FFT_Good_50=[]\n",
        "#==============================================================================\n",
        "for j in range(1,4):\n",
        "  for i in range (len(Bad_titration)):\n",
        "    FFT_Bad_50.append(scipy.fftpack.fft(Bad_titration[i]['EEG{}'.format(j)].values.astype(float)))\n",
        "    \n",
        "  FFT_Bad_50_quad.append(np.array(FFT_Bad_50))\n",
        "  FFT_Bad_50=[]  \n",
        "FFT_Good_50_quad=np.stack(FFT_Good_50_quad, axis=1)\n",
        "FFT_Bad_50_quad=np.stack(FFT_Bad_50_quad, axis=1)\n",
        "\n",
        "#======================================================================================================\n",
        "from matplotlib.pyplot import figure\n",
        "\n",
        "figure(figsize=(15, 6), dpi=80)\n",
        "plt.plot([np.mean(FFT_Good_50_quad[i][0][20:30]) for i in range(FFT_Good_50_quad.shape[0])])\n",
        "\n",
        "plt.plot([np.mean(FFT_Bad_50_quad[i][0][20:30]) for i in range(FFT_Bad_50_quad.shape[0])])\n"
      ],
      "metadata": {
        "colab": {
          "base_uri": "https://localhost:8080/",
          "height": 474
        },
        "id": "7-YGL1AbCZql",
        "outputId": "05b492a7-8ab5-4f49-81f5-863a52f79b12"
      },
      "execution_count": null,
      "outputs": [
        {
          "output_type": "stream",
          "name": "stderr",
          "text": [
            "/usr/local/lib/python3.7/dist-packages/ipykernel_launcher.py:17: VisibleDeprecationWarning: Creating an ndarray from ragged nested sequences (which is a list-or-tuple of lists-or-tuples-or ndarrays with different lengths or shapes) is deprecated. If you meant to do this, you must specify 'dtype=object' when creating the ndarray.\n",
            "/usr/local/lib/python3.7/dist-packages/ipykernel_launcher.py:24: VisibleDeprecationWarning: Creating an ndarray from ragged nested sequences (which is a list-or-tuple of lists-or-tuples-or ndarrays with different lengths or shapes) is deprecated. If you meant to do this, you must specify 'dtype=object' when creating the ndarray.\n"
          ]
        },
        {
          "output_type": "execute_result",
          "data": {
            "text/plain": [
              "[<matplotlib.lines.Line2D at 0x7f6b636e6b10>]"
            ]
          },
          "metadata": {},
          "execution_count": 159
        },
        {
          "output_type": "display_data",
          "data": {
            "text/plain": [
              "<Figure size 1200x480 with 1 Axes>"
            ],
            "image/png": "[encoded data removed]"
          },
          "metadata": {
            "needs_background": "light"
          }
        }
      ]
    },
    {
      "cell_type": "code",
      "source": [
        "import matplotlib.pyplot as plt\n",
        "import numpy as np\n",
        "import scipy.fftpack\n",
        "n=7\n",
        "# Number of sample points\n",
        "N = 128\n",
        "# sample spacing\n",
        "T = 1.0 / 100\n",
        "x = np.linspace(0.0, N*T, N)\n",
        "y = Good_titration[n]['EEG0'].values.astype(float)\n",
        "y1 = Good_titration[0]['EEG0'].values.astype(float)\n",
        "yf = scipy.fftpack.fft(y)\n",
        "y1f = scipy.fftpack.fft(y1)\n",
        "xf = np.linspace(0.0, 1.0//(2.0*T), N//2)\n",
        "\n",
        "fig, ax = plt.subplots(figsize = (12,5))\n",
        "ax.bar(xf, 2.0/N * np.abs(yf[:N//2]),width=0.1, color ='g')\n",
        "ax.bar(xf, 2.0/N * np.abs(y1f[:N//2]),width=0.2 ,color ='orange')\n",
        "plt.show()"
      ],
      "metadata": {
        "colab": {
          "base_uri": "https://localhost:8080/",
          "height": 320
        },
        "id": "E7iEI9LIlbgu",
        "outputId": "d3ec9234-0692-4fde-b6a2-b0dc3794d4ac"
      },
      "execution_count": null,
      "outputs": [
        {
          "output_type": "display_data",
          "data": {
            "text/plain": [
              "<Figure size 864x360 with 1 Axes>"
            ],
            "image/png": "[encoded data removed]"
          },
          "metadata": {
            "needs_background": "light"
          }
        }
      ]
    },
    {
      "cell_type": "code",
      "source": [
        "import matplotlib.pyplot as plt\n",
        "import numpy as np\n",
        "import scipy.fftpack\n",
        "n=1\n",
        "# Number of sample points\n",
        "N = 128\n",
        "# sample spacing\n",
        "T = 1.0 / 100\n",
        "x = np.linspace(0.0, N*T, N)\n",
        "y = Good_titration[n]['EEG1'].values.astype(float)\n",
        "# y1 = Good_titration[0]['EEG1'].values.astype(float)\n",
        "yf = scipy.fftpack.fft(y)\n",
        "# y1f = scipy.fftpack.fft(y1)\n",
        "xf = np.linspace(0.0, 1.0//(2.0*T), N//2)\n",
        "\n",
        "fig, ax = plt.subplots(figsize = (12,5))\n",
        "ax.bar(xf, 2.0/N * np.abs(yf[:N//2]),width=0.1, color ='g')\n",
        "# ax.bar(xf, 2.0/N * np.abs(y1f[:N//2]),width=0.2 ,color ='orange')\n",
        "plt.show()"
      ],
      "metadata": {
        "colab": {
          "base_uri": "https://localhost:8080/",
          "height": 320
        },
        "id": "cg_2rd1NpiWF",
        "outputId": "999b3a06-344c-4551-c7e6-809daea277b0"
      },
      "execution_count": null,
      "outputs": [
        {
          "output_type": "display_data",
          "data": {
            "text/plain": [
              "<Figure size 864x360 with 1 Axes>"
            ],
            "image/png": "[encoded data removed]"
          },
          "metadata": {
            "needs_background": "light"
          }
        }
      ]
    },
    {
      "cell_type": "code",
      "source": [
        "for n in range(9):\n",
        "  y = Bad_titration[n]['EEG1'].values.astype(float)\n",
        "  yf = scipy.fftpack.fft(y)\n",
        "  print(np.abs(yf[:N//2])[15]/64 )\n"
      ],
      "metadata": {
        "colab": {
          "base_uri": "https://localhost:8080/",
          "height": 322
        },
        "id": "D2WewDEtps6s",
        "outputId": "4973d39b-bc0c-4f2b-9b02-1ceb66f6a954"
      },
      "execution_count": null,
      "outputs": [
        {
          "output_type": "stream",
          "name": "stdout",
          "text": [
            "164.5829897848057\n",
            "90.79544747723291\n",
            "186.1839610348577\n",
            "186.1839610348577\n",
            "186.1839610348577\n",
            "186.1839610348577\n"
          ]
        },
        {
          "output_type": "error",
          "ename": "IndexError",
          "evalue": "ignored",
          "traceback": [
            "\u001b[0;31m---------------------------------------------------------------------------\u001b[0m",
            "\u001b[0;31mIndexError\u001b[0m                                Traceback (most recent call last)",
            "\u001b[0;32m<ipython-input-103-5f0acd7368a7>\u001b[0m in \u001b[0;36m<module>\u001b[0;34m()\u001b[0m\n\u001b[1;32m      1\u001b[0m \u001b[0;32mfor\u001b[0m \u001b[0mn\u001b[0m \u001b[0;32min\u001b[0m \u001b[0mrange\u001b[0m\u001b[0;34m(\u001b[0m\u001b[0;36m9\u001b[0m\u001b[0;34m)\u001b[0m\u001b[0;34m:\u001b[0m\u001b[0;34m\u001b[0m\u001b[0;34m\u001b[0m\u001b[0m\n\u001b[0;32m----> 2\u001b[0;31m   \u001b[0my\u001b[0m \u001b[0;34m=\u001b[0m \u001b[0mBad_titration\u001b[0m\u001b[0;34m[\u001b[0m\u001b[0mn\u001b[0m\u001b[0;34m]\u001b[0m\u001b[0;34m[\u001b[0m\u001b[0;34m'EEG1'\u001b[0m\u001b[0;34m]\u001b[0m\u001b[0;34m.\u001b[0m\u001b[0mvalues\u001b[0m\u001b[0;34m.\u001b[0m\u001b[0mastype\u001b[0m\u001b[0;34m(\u001b[0m\u001b[0mfloat\u001b[0m\u001b[0;34m)\u001b[0m\u001b[0;34m\u001b[0m\u001b[0;34m\u001b[0m\u001b[0m\n\u001b[0m\u001b[1;32m      3\u001b[0m   \u001b[0myf\u001b[0m \u001b[0;34m=\u001b[0m \u001b[0mscipy\u001b[0m\u001b[0;34m.\u001b[0m\u001b[0mfftpack\u001b[0m\u001b[0;34m.\u001b[0m\u001b[0mfft\u001b[0m\u001b[0;34m(\u001b[0m\u001b[0my\u001b[0m\u001b[0;34m)\u001b[0m\u001b[0;34m\u001b[0m\u001b[0;34m\u001b[0m\u001b[0m\n\u001b[1;32m      4\u001b[0m   \u001b[0mprint\u001b[0m\u001b[0;34m(\u001b[0m\u001b[0mnp\u001b[0m\u001b[0;34m.\u001b[0m\u001b[0mabs\u001b[0m\u001b[0;34m(\u001b[0m\u001b[0myf\u001b[0m\u001b[0;34m[\u001b[0m\u001b[0;34m:\u001b[0m\u001b[0mN\u001b[0m\u001b[0;34m//\u001b[0m\u001b[0;36m2\u001b[0m\u001b[0;34m]\u001b[0m\u001b[0;34m)\u001b[0m\u001b[0;34m[\u001b[0m\u001b[0;36m15\u001b[0m\u001b[0;34m]\u001b[0m\u001b[0;34m/\u001b[0m\u001b[0;36m64\u001b[0m \u001b[0;34m)\u001b[0m\u001b[0;34m\u001b[0m\u001b[0;34m\u001b[0m\u001b[0m\n",
            "\u001b[0;31mIndexError\u001b[0m: list index out of range"
          ]
        }
      ]
    },
    {
      "cell_type": "markdown",
      "source": [
        "Dual channel success rate"
      ],
      "metadata": {
        "id": "44YvVnIe4u7W"
      }
    },
    {
      "cell_type": "code",
      "source": [
        "# Preshock and postshock seperation and concatenation Dual channel\n",
        "\n",
        "cols = ['index', 'EEG0', 'EEG1','Post_EEG0', 'Post_EEG1', 'Date', 'Ti vs Tt', 'Site',\n",
        "       'Phase', '% Charge', 'Durée clinique ', 'Durée EEG', 'Anesthésiant',\n",
        "       'Qualité clinique', 'Qualité EEG', 'Adranergie',\n",
        "       'Qualité Aplatissement', 'Patient_id', 'Xls_file_path', 'EEG_file_path']\n",
        "#=============================================================================================#\n",
        "Pre_shock2 = [EEGs_Dual_Channel[i].iloc[0:min(EEGs_Dual_Channel[i]['EEG0'].astype(float)[EEGs_Dual_Channel[i]['EEG0'].astype(float) ==EEGs_Dual_Channel[i]['EEG0'].astype(float).max()].index[0],\n",
        "                                              EEGs_Dual_Channel[i]['EEG1'].astype(float)[EEGs_Dual_Channel[i]['EEG1'].astype(float) ==EEGs_Dual_Channel[i]['EEG1'].astype(float).max()].index[0])].reset_index() for i in range(194)]\n",
        "Post_shock2 = [EEGs_Dual_Channel[i].iloc[-1000:-1].reset_index() for i in range(194)]\n",
        "#=============================================================================================#\n",
        "\n",
        "for i in range(194):\n",
        "  Pre_shock2[i]['Post_EEG0'] = Post_shock2[i]['EEG0'] \n",
        "  Pre_shock2[i]['Post_EEG1'] = Post_shock2[i]['EEG1'] \n",
        "  Pre_shock2[i] = Pre_shock2[i].reindex(columns = cols)\n",
        "  "
      ],
      "metadata": {
        "id": "2utPq5Vzx0nG"
      },
      "execution_count": null,
      "outputs": []
    },
    {
      "cell_type": "code",
      "source": [
        "G =[]\n",
        "B =[]\n",
        "\n",
        "for j in range (100):\n",
        "  g = [Pre_shock2[i] for i in range(194) if Pre_shock2[i]['% Charge'].iloc[0]==j and Pre_shock2[i]['Qualité EEG'].iloc[0]=='+']\n",
        "  g1 = [Pre_shock2[i] for i in range(194) if Pre_shock2[i]['% Charge'].iloc[0]==j and Pre_shock2[i]['Qualité EEG'].iloc[0]=='++']\n",
        "  g2 = [Pre_shock2[i] for i in range(194) if Pre_shock2[i]['% Charge'].iloc[0]==j and Pre_shock2[i]['Qualité EEG'].iloc[0]=='+++']\n",
        "\n",
        "  b = [Pre_shock2[i] for i in range(194) if Pre_shock2[i]['% Charge'].iloc[0]==j and Pre_shock2[i]['Qualité EEG'].iloc[0]=='-']\n",
        "  G.append(len(g)+len(g1)+len(g2))\n",
        "  B.append(len(b))\n",
        "plt.figure(figsize=(15,5))\n",
        "plt.plot(G, color ='G')\n",
        "plt.plot(B, color ='R')  \n",
        "plt.grid()\n",
        "plt.show()"
      ],
      "metadata": {
        "colab": {
          "base_uri": "https://localhost:8080/",
          "height": 320
        },
        "id": "I2ELN4Wr1i_5",
        "outputId": "9df0b338-dea4-4d17-9f11-bc55770e2185"
      },
      "execution_count": null,
      "outputs": [
        {
          "output_type": "display_data",
          "data": {
            "text/plain": [
              "<Figure size 1080x360 with 1 Axes>"
            ],
            "image/png": "[encoded data removed]"
          },
          "metadata": {
            "needs_background": "light"
          }
        }
      ]
    },
    {
      "cell_type": "code",
      "source": [
        "Pre_post_shock2 = pd.concat(Pre_shock2, axis=0)"
      ],
      "metadata": {
        "id": "80R_1-p13EKY"
      },
      "execution_count": null,
      "outputs": []
    },
    {
      "cell_type": "code",
      "source": [
        "from scipy.fftpack import fft\n",
        "# Number of sample points\n",
        "N = 600\n",
        "# sample spacing\n",
        "T = 1.0 / 800.0\n",
        "x = np.linspace(0.0, N*T, N)\n",
        "y = np.sin(50.0 * 2.0*np.pi*x) + 0.5*np.sin(80.0 * 2.0*np.pi*x)\n",
        "yf = fft(y)\n",
        "xf = np.linspace(0.0, 1.0/(2.0*T), N/2)\n",
        "import matplotlib.pyplot as plt\n",
        "plt.plot(xf, 2.0/N * np.abs(yf[0:N/2]))\n",
        "plt.grid()\n",
        "plt.show()"
      ],
      "metadata": {
        "id": "KNfgLSMMxE2X"
      },
      "execution_count": null,
      "outputs": []
    },
    {
      "cell_type": "markdown",
      "source": [
        "EEGs Concatenation"
      ],
      "metadata": {
        "id": "o-GDhGg0_jvp"
      }
    },
    {
      "cell_type": "code",
      "source": [
        "Concat_quad0= pd.concat([EEGs_Quad_Channel[i] for i in range(200)], axis=0)[['EEG0','EEG1','EEG2','EEG3','% Charge','Qualité clinique']]\n",
        "pd.to_pickle(Concat_quad0, 'Concat_quad0.pkl')\n",
        "del Concat_quad0"
      ],
      "metadata": {
        "id": "Hox54QNVYPUC"
      },
      "execution_count": null,
      "outputs": []
    },
    {
      "cell_type": "code",
      "source": [
        "Concat_quad1= pd.concat([EEGs_Quad_Channel[i] for i in range(200,403)], axis=0)[['EEG0','EEG1','EEG2','EEG3','% Charge','Qualité clinique']]\n",
        "pd.to_pickle(Concat_quad1, 'Concat_quad1.pkl')\n",
        "del Concat_quad1"
      ],
      "metadata": {
        "id": "KZ7cnFTJ8WRr"
      },
      "execution_count": null,
      "outputs": []
    },
    {
      "cell_type": "code",
      "source": [
        "Concat_quad= pd.concat([pd.read_pickle('Concat_quad0.pkl'), pd.read_pickle('Concat_quad1.pkl')], axis=0)"
      ],
      "metadata": {
        "id": "-lw-1TYp8dQO"
      },
      "execution_count": null,
      "outputs": []
    },
    {
      "cell_type": "code",
      "source": [
        "pd.to_pickle(Concat_quad, 'Concat_quad.pkl')"
      ],
      "metadata": {
        "id": "UESg2pgfesbp"
      },
      "execution_count": null,
      "outputs": []
    },
    {
      "cell_type": "code",
      "source": [
        "!cp Concat_quad.pkl /content/gdrive/MyDrive/Sajjad_cloned_ready/Concat_quad.pkl"
      ],
      "metadata": {
        "id": "c_5kDIsY99t6"
      },
      "execution_count": null,
      "outputs": []
    },
    {
      "cell_type": "code",
      "source": [
        "Concat_quad_pkl = pd.read_pickle('Concat_quad.pkl')"
      ],
      "metadata": {
        "id": "yZrRi3kNhaCf"
      },
      "execution_count": null,
      "outputs": []
    },
    {
      "cell_type": "markdown",
      "source": [
        "Scaling"
      ],
      "metadata": {
        "id": "ZquWzJCd_pR-"
      }
    },
    {
      "cell_type": "code",
      "source": [
        "# In the charge column some of the rows' value is: '5 puis 10' which is not a float so we repalced it by the 10.\n",
        "Concat_quad_pkl = Concat_quad_pkl.replace('5 puis 10',10)"
      ],
      "metadata": {
        "id": "rHfFus3PB3Wg"
      },
      "execution_count": null,
      "outputs": []
    },
    {
      "cell_type": "code",
      "source": [
        "scale = MinMaxScaler()\n",
        "Concat_quad_pkl[['EEG0','EEG1','EEG2','EEG3','% Charge']] = scale.fit_transform(Concat_quad_pkl[['EEG0','EEG1','EEG2','EEG3','% Charge']])"
      ],
      "metadata": {
        "id": "1J5lydHzap9A"
      },
      "execution_count": null,
      "outputs": []
    },
    {
      "cell_type": "code",
      "source": [
        "Concat_quad_pkl"
      ],
      "metadata": {
        "id": "8VhV4xyxm0Qe"
      },
      "execution_count": null,
      "outputs": []
    },
    {
      "cell_type": "code",
      "source": [
        "#Saving data to gdrive\n",
        "pd.to_pickle(Concat_quad_pkl, 'Concat_quad_pkl_scaled.pkl')\n",
        "!cp 'Concat_quad_pkl_scaled.pkl' /content/gdrive/MyDrive/Sajjad_cloned_ready/Concat_quad_scaled.pkl"
      ],
      "metadata": {
        "id": "7xkGlUOME4W_"
      },
      "execution_count": null,
      "outputs": []
    },
    {
      "cell_type": "code",
      "source": [
        "Concat_quad_pkl = pd.read_pickle('/content/gdrive/MyDrive/Sajjad_cloned_ready/Concat_quad_scaled.pkl')"
      ],
      "metadata": {
        "id": "rPAkWL97p3h-"
      },
      "execution_count": null,
      "outputs": []
    },
    {
      "cell_type": "markdown",
      "source": [
        "Label encoding"
      ],
      "metadata": {
        "id": "Ml19BZdg_SiR"
      }
    },
    {
      "cell_type": "markdown",
      "source": [
        "Dataset and label prepration"
      ],
      "metadata": {
        "id": "PCcMqJl-UBrV"
      }
    },
    {
      "cell_type": "code",
      "source": [
        "Concat_quad_pkl = Concat_quad_pkl.dropna()"
      ],
      "metadata": {
        "id": "txH2zikHfJ5i"
      },
      "execution_count": null,
      "outputs": []
    },
    {
      "cell_type": "code",
      "source": [
        "# Choosing only the good EEGs\n",
        "Dataset = Concat_quad_pkl[(Concat_quad_pkl['Qualité clinique']== '+++') | (Concat_quad_pkl['Qualité clinique']== '++')][['EEG0','EEG1','EEG2','EEG3','% Charge']]"
      ],
      "metadata": {
        "id": "v_9qcYULF1T9"
      },
      "execution_count": null,
      "outputs": []
    },
    {
      "cell_type": "code",
      "source": [
        "# We defined a function to make a dataset with demanded element size\n",
        "\n",
        "def elementor(df, element_size):\n",
        "  t0 = df[list(df.columns)[0:-1]].values\n",
        "  round = int(t0.shape[0]/element_size)\n",
        "  t0 = t0[0:(round*element_size)]\n",
        "  return t0.reshape((round, element_size, df.shape[1]-1)), np.array([df[list(df.columns)[-1]].iloc[i*element_size:(i+1)*element_size].mean()  for i in range(round)])\n",
        "\n",
        "data, label = elementor(Dataset,196)"
      ],
      "metadata": {
        "id": "hp2YXFKxHptr"
      },
      "execution_count": null,
      "outputs": []
    },
    {
      "cell_type": "code",
      "source": [
        "print('data shape: ',data.shape,'\\t' ,'label shape: ',label.shape )"
      ],
      "metadata": {
        "id": "Vc9mdO6rTteX"
      },
      "execution_count": null,
      "outputs": []
    },
    {
      "cell_type": "code",
      "source": [
        "print(np.any(np.isnan(data)))"
      ],
      "metadata": {
        "id": "KJZtcd-HeV_r"
      },
      "execution_count": null,
      "outputs": []
    },
    {
      "cell_type": "markdown",
      "source": [
        "#NN\n"
      ],
      "metadata": {
        "id": "sR7b-WXAOo5e"
      }
    },
    {
      "cell_type": "code",
      "source": [
        "data = data.reshape((49473, 28,28,1))"
      ],
      "metadata": {
        "id": "viOsSYsAZi_s"
      },
      "execution_count": null,
      "outputs": []
    },
    {
      "cell_type": "code",
      "source": [
        "f = lambda x: int(x*10)\n",
        "F = np.vectorize(f)\n",
        "F(label)"
      ],
      "metadata": {
        "id": "zKcfXp1QrCl2"
      },
      "execution_count": null,
      "outputs": []
    },
    {
      "cell_type": "code",
      "source": [
        "from sklearn.preprocessing import LabelBinarizer\n",
        "y = LabelBinarizer().fit_transform(F(label))\n",
        "y[5000]"
      ],
      "metadata": {
        "id": "YrM65cqxPU3u"
      },
      "execution_count": null,
      "outputs": []
    },
    {
      "cell_type": "code",
      "source": [
        "x_train, x_test, y_train, y_test = train_test_split(data, label,train_size = 0.33)"
      ],
      "metadata": {
        "id": "qH64zF56OrEx"
      },
      "execution_count": null,
      "outputs": []
    },
    {
      "cell_type": "code",
      "source": [
        "print(np.any(np.isnan(x_train)))"
      ],
      "metadata": {
        "id": "VXsp5ppaeAwZ"
      },
      "execution_count": null,
      "outputs": []
    },
    {
      "cell_type": "code",
      "source": [
        "Y = keras.utils.to_categorical(Y, 11)"
      ],
      "metadata": {
        "id": "YrV3KadlehhX"
      },
      "execution_count": null,
      "outputs": []
    },
    {
      "cell_type": "code",
      "source": [
        "\n",
        "x_train = x_train.astype(\"float32\")\n",
        "x_test = x_test.astype(\"float32\") \n",
        "\n",
        "\n",
        "y_train = keras.utils.to_categorical(y_train, 11)\n",
        "y_test = keras.utils.to_categorical(y_test, 11)"
      ],
      "metadata": {
        "id": "WgcBGPfbZ7Up"
      },
      "execution_count": null,
      "outputs": []
    },
    {
      "cell_type": "code",
      "source": [
        "\n",
        "data = data.astype(\"float32\")\n",
        "\n",
        "Flabel = keras.utils.to_categorical(F(label), 11)"
      ],
      "metadata": {
        "id": "jy-dEHEqnVeJ"
      },
      "execution_count": null,
      "outputs": []
    },
    {
      "cell_type": "code",
      "source": [
        "input_shape = (28,28,1)\n",
        "model = keras.Sequential(\n",
        "    [\n",
        "        keras.Input(shape=input_shape),\n",
        "        # layers.LayerNormalization(axis=-1, epsilon=0.001, center=True, scale=True, beta_initializer='zeros', gamma_initializer='ones'),\n",
        "        layers.Conv2D(32, kernel_size=(3, 3),kernel_regularizer=l2(0.01), bias_regularizer=l2(0.01), activation=\"relu\"),\n",
        "        layers.LayerNormalization(axis=-1, epsilon=0.001, center=True, scale=True, beta_initializer='zeros', gamma_initializer='ones'),\n",
        "        # layers.BatchNormalization(),\n",
        "        layers.MaxPooling2D(pool_size=(2, 2)),\n",
        "        layers.LayerNormalization(axis=-1, epsilon=0.001, center=True, scale=True, beta_initializer='zeros', gamma_initializer='ones'),\n",
        "        # layers.BatchNormalization(),\n",
        "        layers.Conv2D(64, kernel_size=(3, 3),kernel_regularizer=l2(0.01), bias_regularizer=l2(0.01), activation=\"relu\"),\n",
        "        layers.LayerNormalization(axis=-1, epsilon=0.001, center=True, scale=True, beta_initializer='zeros', gamma_initializer='ones'),\n",
        "        # layers.BatchNormalization(),\n",
        "        layers.MaxPooling2D(pool_size=(2, 2)),\n",
        "        layers.LayerNormalization(axis=-1, epsilon=0.001, center=True, scale=True, beta_initializer='zeros', gamma_initializer='ones'),\n",
        "        # layers.BatchNormalization(),\n",
        "        layers.Flatten(),\n",
        "        layers.LayerNormalization(axis=-1, epsilon=0.001, center=True, scale=True, beta_initializer='zeros', gamma_initializer='ones'),\n",
        "        # layers.Dropout(0.5),\n",
        "        layers.Dense(1, activation=\"relu\",kernel_regularizer=l2(0.01), bias_regularizer=l2(0.01),),\n",
        "        layers.LayerNormalization(axis=-1, epsilon=0.001, center=True, scale=True, beta_initializer='zeros', gamma_initializer='ones'),\n",
        "        # layers.BatchNormalization(),\n",
        "    ]\n",
        ")\n",
        "\n",
        "model.summary()"
      ],
      "metadata": {
        "id": "Eqm3c7JejJQ9"
      },
      "execution_count": null,
      "outputs": []
    },
    {
      "cell_type": "code",
      "source": [],
      "metadata": {
        "id": "n2Twf4ljssj4"
      },
      "execution_count": null,
      "outputs": []
    },
    {
      "cell_type": "code",
      "source": [
        "input_shape = (28,28,1)\n",
        "model = keras.Sequential(\n",
        "    [\n",
        "        keras.Input(shape=input_shape),\n",
        "        layers.Conv2D(64, kernel_size=(3, 3), activation=\"relu\"),\n",
        "        layers.MaxPooling2D(pool_size=(2, 2)),\n",
        "        layers.Flatten(),\n",
        "        layers.Dropout(0.5),\n",
        "        layers.Dense(1, activation=\"relu\"),\n",
        "        layers.Dense(16, activation=\"relu\"),\n",
        "        layers.Dense(32, activation=\"relu\"),\n",
        "        layers.Dense(64, activation=\"relu\"),\n",
        "        layers.Dense(128, activation=\"relu\"),\n",
        "        layers.Dense(128, activation=\"relu\"),\n",
        "        layers.Dense(64, activation=\"relu\"),\n",
        "        layers.Dense(32, activation=\"relu\"),\n",
        "        layers.Dense(16, activation=\"relu\"),\n",
        "        layers.Dense(11, activation=\"softmax\"),\n",
        "    ]\n",
        ")\n",
        "\n",
        "model.summary()"
      ],
      "metadata": {
        "id": "3y8W9DywRVPh"
      },
      "execution_count": null,
      "outputs": []
    },
    {
      "cell_type": "code",
      "source": [
        "batch_size = 128\n",
        "epochs = 10\n",
        "sgd = optimizers.SGD(lr=0.01, clipnorm=0.1)\n",
        "model.compile(loss=\"categorical_crossentropy\", optimizer= 'adam')\n",
        "\n",
        "model.fit(data, Flabel, batch_size=batch_size, epochs=epochs)"
      ],
      "metadata": {
        "id": "R0r-JAApUDvx"
      },
      "execution_count": null,
      "outputs": []
    },
    {
      "cell_type": "code",
      "source": [
        "pred = model.predict(data)"
      ],
      "metadata": {
        "id": "-h8PotqmH7sZ"
      },
      "execution_count": null,
      "outputs": []
    },
    {
      "cell_type": "code",
      "source": [
        "\n",
        "np.argmax(pred[30251])"
      ],
      "metadata": {
        "id": "uHGONQtwgoKs"
      },
      "execution_count": null,
      "outputs": []
    },
    {
      "cell_type": "code",
      "source": [
        "Flabel[-1]"
      ],
      "metadata": {
        "id": "Tbs464-ggaD9"
      },
      "execution_count": null,
      "outputs": []
    },
    {
      "cell_type": "code",
      "source": [
        "X = np.random.random((20000,28,28,1))\n",
        "Y = X/2"
      ],
      "metadata": {
        "id": "NfxMHP4mi0FO"
      },
      "execution_count": null,
      "outputs": []
    },
    {
      "cell_type": "code",
      "source": [
        "import numpy as np\n",
        "import tensorflow as tf\n",
        "from tensorflow import keras\n",
        "from tensorflow.keras import layers\n",
        "import tensorflow_addons as tfa"
      ],
      "metadata": {
        "id": "HUu8caCnmPJy"
      },
      "execution_count": null,
      "outputs": []
    },
    {
      "cell_type": "markdown",
      "source": [
        "#Test"
      ],
      "metadata": {
        "id": "FR4AJzl0FiJw"
      }
    },
    {
      "cell_type": "code",
      "source": [
        "pip install -U tensorflow-addons"
      ],
      "metadata": {
        "id": "fS54U3lmF_qt"
      },
      "execution_count": null,
      "outputs": []
    },
    {
      "cell_type": "code",
      "source": [
        "import numpy as np\n",
        "import tensorflow as tf\n",
        "from tensorflow import keras\n",
        "from tensorflow.keras import layers\n",
        "import tensorflow_addons as tfa"
      ],
      "metadata": {
        "id": "aJIBHksOFj7I"
      },
      "execution_count": null,
      "outputs": []
    },
    {
      "cell_type": "code",
      "source": [
        "num_classes = 100\n",
        "input_shape = (32, 32, 3)\n",
        "\n",
        "(x_train, y_train), (x_test, y_test) = keras.datasets.cifar100.load_data()\n",
        "\n",
        "print(f\"x_train shape: {x_train.shape} - y_train shape: {y_train.shape}\")\n",
        "print(f\"x_test shape: {x_test.shape} - y_test shape: {y_test.shape}\")"
      ],
      "metadata": {
        "id": "jHGN6NDvGCH5"
      },
      "execution_count": null,
      "outputs": []
    },
    {
      "cell_type": "code",
      "source": [
        "weight_decay = 0.0001\n",
        "batch_size = 128\n",
        "num_epochs = 50\n",
        "dropout_rate = 0.2\n",
        "image_size = 64  # We'll resize input images to this size.\n",
        "patch_size = 8  # Size of the patches to be extracted from the input images.\n",
        "num_patches = (image_size // patch_size) ** 2  # Size of the data array.\n",
        "embedding_dim = 256  # Number of hidden units.\n",
        "num_blocks = 4  # Number of blocks.\n",
        "\n",
        "print(f\"Image size: {image_size} X {image_size} = {image_size ** 2}\")\n",
        "print(f\"Patch size: {patch_size} X {patch_size} = {patch_size ** 2} \")\n",
        "print(f\"Patches per image: {num_patches}\")\n",
        "print(f\"Elements per patch (3 channels): {(patch_size ** 2) * 3}\")"
      ],
      "metadata": {
        "id": "EVaNyJaPGFPi"
      },
      "execution_count": null,
      "outputs": []
    },
    {
      "cell_type": "markdown",
      "source": [
        "#Signal preprosessing"
      ],
      "metadata": {
        "id": "MvQYY0eXu6hQ"
      }
    },
    {
      "cell_type": "code",
      "source": [
        "Concat_quad_pkl.head(3)"
      ],
      "metadata": {
        "id": "Khyhq3Y-u95i"
      },
      "execution_count": null,
      "outputs": []
    },
    {
      "cell_type": "code",
      "source": [
        "Concat_quad_pkl = Concat_quad_pkl.replace('5 puis 10',10)"
      ],
      "metadata": {
        "id": "eAtnzM4xyZoW"
      },
      "execution_count": null,
      "outputs": []
    },
    {
      "cell_type": "code",
      "source": [
        "Positive = Concat_quad_pkl[Concat_quad_pkl['Qualité clinique']=='+++']\n",
        "Negative = Concat_quad_pkl[Concat_quad_pkl['Qualité clinique']=='-']"
      ],
      "metadata": {
        "id": "TkG11hdivLEI"
      },
      "execution_count": null,
      "outputs": []
    },
    {
      "cell_type": "markdown",
      "source": [
        "<h3> Comparison of bad and good EEG avarage amplitude to charge (millivolt).<p>\n",
        "<font color=Green> My investigation shows that in the bad ECT experiments the parctioner used lower charge</p>"
      ],
      "metadata": {
        "id": "Xs2S-s491Lkg"
      }
    },
    {
      "cell_type": "code",
      "source": [
        "\"\"\"(Negative['EEG0'].astype(float)/Negative['% Charge'].astype(float)).mean()\n",
        "(Positive['EEG0'].astype(float)/Positive['% Charge'].astype(float)).mean()\"\"\"\n",
        "i = 0\n",
        "print('EEG{} nagative ratio: '.format(i), (Negative['EEG{}'.format(i)].astype(float)/Negative['% Charge'].astype(float)).mean(),'\\n', 'EEG{} positive ratio:'.format(i),\n",
        "      (Positive['EEG{}'.format(i)].astype(float)/Positive['% Charge'].astype(float)).mean())"
      ],
      "metadata": {
        "id": "JXl4ByRlzOEy"
      },
      "execution_count": null,
      "outputs": []
    },
    {
      "cell_type": "code",
      "source": [
        "\"\"\"(Negative['EEG1'].astype(float)/Negative['% Charge'].astype(float)).mean()\n",
        "(Positive['EEG1'].astype(float)/Positive['% Charge'].astype(float)).mean()\"\"\"\n",
        "i = 1\n",
        "print('EEG{} nagative ratio: '.format(i), (Negative['EEG{}'.format(i)].astype(float)/Negative['% Charge'].astype(float)).mean(),'\\n', 'EEG{} positive ratio:'.format(i),\n",
        "      (Positive['EEG{}'.format(i)].astype(float)/Positive['% Charge'].astype(float)).mean())"
      ],
      "metadata": {
        "id": "xRzusC6Q0nMx"
      },
      "execution_count": null,
      "outputs": []
    },
    {
      "cell_type": "code",
      "source": [
        "\"\"\"(Negative['EEG2'].astype(float)/Negative['% Charge'].astype(float)).mean()\n",
        "(Positive['EEG2'].astype(float)/Positive['% Charge'].astype(float)).mean()\"\"\"\n",
        "i = 2\n",
        "print('EEG{} nagative ratio: '.format(i), (Negative['EEG{}'.format(i)].astype(float)/Negative['% Charge'].astype(float)).mean(),'\\n', 'EEG{} positive ratio:'.format(i),\n",
        "      (Positive['EEG{}'.format(i)].astype(float)/Positive['% Charge'].astype(float)).mean())"
      ],
      "metadata": {
        "id": "seYTYUCa0rY1"
      },
      "execution_count": null,
      "outputs": []
    },
    {
      "cell_type": "code",
      "source": [
        "\"\"\"(Negative['EEG3'].astype(float)/Negative['% Charge'].astype(float)).mean()\n",
        "(Positive['EEG3'].astype(float)/Positive['% Charge'].astype(float)).mean()\"\"\"\n",
        "i = 3\n",
        "print('EEG{} nagative ratio: '.format(i), (Negative['EEG{}'.format(i)].astype(float)/Negative['% Charge'].astype(float)).mean(),'\\n', 'EEG{} positive ratio:'.format(i),\n",
        "      (Positive['EEG{}'.format(i)].astype(float)/Positive['% Charge'].astype(float)).mean())"
      ],
      "metadata": {
        "id": "7uUK-wZk0wjH"
      },
      "execution_count": null,
      "outputs": []
    },
    {
      "cell_type": "code",
      "source": [
        "Good_50 = Concat_quad_pkl[(Concat_quad_pkl['% Charge']==50) & (Concat_quad_pkl['Qualité clinique']=='+++')]\n",
        "Bad_50 = Concat_quad_pkl[(Concat_quad_pkl['% Charge']==50) & (Concat_quad_pkl['Qualité clinique']=='-')]"
      ],
      "metadata": {
        "id": "9h-l1AG3D0tL"
      },
      "execution_count": null,
      "outputs": []
    },
    {
      "cell_type": "code",
      "source": [
        "Good_50['EEG0'].mean()"
      ],
      "metadata": {
        "id": "sAlzr3IYEibm"
      },
      "execution_count": null,
      "outputs": []
    },
    {
      "cell_type": "markdown",
      "source": [
        "#TEST"
      ],
      "metadata": {
        "id": "SWmmO6DYOJ-u"
      }
    },
    {
      "cell_type": "code",
      "source": [
        "import scipy \n"
      ],
      "metadata": {
        "id": "J6v2BUekORt8"
      },
      "execution_count": null,
      "outputs": []
    },
    {
      "cell_type": "code",
      "source": [
        "x= np.linspace(0,20000,10000)"
      ],
      "metadata": {
        "id": "BMAMCYucOIhy"
      },
      "execution_count": null,
      "outputs": []
    },
    {
      "cell_type": "code",
      "source": [
        "from scipy.fft import fft"
      ],
      "metadata": {
        "id": "X41IcNLKhamv"
      },
      "execution_count": null,
      "outputs": []
    },
    {
      "cell_type": "code",
      "source": [
        "plt.plot(10*x,np.abs(np.fft.fft(np.sin(50.0 * 2.0*np.pi*x) + np.sin(80.0 * 2.0*np.pi*x))))"
      ],
      "metadata": {
        "colab": {
          "base_uri": "https://localhost:8080/",
          "height": 282
        },
        "id": "sBwwqTjGhmY8",
        "outputId": "5c28a0f5-6526-4573-950d-4c873d0758b4"
      },
      "execution_count": null,
      "outputs": [
        {
          "output_type": "execute_result",
          "data": {
            "text/plain": [
              "[<matplotlib.lines.Line2D at 0x7f87b2f26a90>]"
            ]
          },
          "metadata": {},
          "execution_count": 38
        },
        {
          "output_type": "display_data",
          "data": {
            "text/plain": [
              "<Figure size 432x288 with 1 Axes>"
            ],
            "image/png": "[encoded data removed]"
          },
          "metadata": {
            "needs_background": "light"
          }
        }
      ]
    },
    {
      "cell_type": "code",
      "source": [
        "import matplotlib.pyplot as plt\n",
        "import numpy as np\n",
        "import scipy.fftpack\n",
        "\n",
        "# Number of sample points\n",
        "N = 600\n",
        "# sample spacing\n",
        "T = 1.0 / 800.0\n",
        "x = np.linspace(0.0, N*T, N)\n",
        "y = np.sin(50.0 * 2.0*np.pi*x) + 0.5*np.sin(80.0 * 2.0*np.pi*x)\n",
        "yf = scipy.fftpack.fft(y)\n",
        "xf = np.linspace(0.0, 1.0//(2.0*T), N//2)\n",
        "\n",
        "fig, ax = plt.subplots()\n",
        "ax.plot(xf, 2.0/N * np.abs(yf[:N//2]))\n",
        "plt.show()"
      ],
      "metadata": {
        "colab": {
          "base_uri": "https://localhost:8080/",
          "height": 265
        },
        "id": "cAhuFVu5N8RX",
        "outputId": "d74c5d44-885b-41b8-a8ad-f241a7346ee7"
      },
      "execution_count": null,
      "outputs": [
        {
          "output_type": "display_data",
          "data": {
            "text/plain": [
              "<Figure size 432x288 with 1 Axes>"
            ],
            "image/png": "[encoded data removed]"
          },
          "metadata": {
            "needs_background": "light"
          }
        }
      ]
    },
    {
      "cell_type": "code",
      "source": [
        "EEGs_Quad_Channel[0]"
      ],
      "metadata": {
        "colab": {
          "base_uri": "https://localhost:8080/",
          "height": 869
        },
        "id": "vvjqyedcYxwH",
        "outputId": "6e5c2c45-5c14-4491-c0b0-38ab207d6086"
      },
      "execution_count": null,
      "outputs": [
        {
          "output_type": "execute_result",
          "data": {
            "text/plain": [
              "        EEG0   EEG1  EEG2  EEG3        Date Ti vs Tt Site      Phase % Charge  \\\n",
              "0       13.3   18.6  -0.1  10.4  01-09-2021       Tt  BiT  Entretien     50.0   \n",
              "1       14.9   21.5   2.4  12.8  01-09-2021       Tt  BiT  Entretien     50.0   \n",
              "2       15.0   22.8   4.3  14.4  01-09-2021       Tt  BiT  Entretien     50.0   \n",
              "3       13.5   22.4   5.1  14.9  01-09-2021       Tt  BiT  Entretien     50.0   \n",
              "4       10.5   20.6   4.4  14.5  01-09-2021       Tt  BiT  Entretien     50.0   \n",
              "...      ...    ...   ...   ...         ...      ...  ...        ...      ...   \n",
              "40841  -30.1  -17.6  -9.0  10.3  01-09-2021       Tt  BiT  Entretien     50.0   \n",
              "40842  -29.3  -17.5  -8.8  10.1  01-09-2021       Tt  BiT  Entretien     50.0   \n",
              "40843  -28.3  -17.1  -8.4   9.3  01-09-2021       Tt  BiT  Entretien     50.0   \n",
              "40844  -27.1  -16.4  -7.8   7.8  01-09-2021       Tt  BiT  Entretien     50.0   \n",
              "40845  -25.9  -15.4  -7.3   6.4  01-09-2021       Tt  BiT  Entretien     50.0   \n",
              "\n",
              "      Durée clinique  Durée EEG Anesthésiant Qualité clinique Qualité EEG  \\\n",
              "0                40.0      70.0        Metho              +++         +++   \n",
              "1                40.0      70.0        Metho              +++         +++   \n",
              "2                40.0      70.0        Metho              +++         +++   \n",
              "3                40.0      70.0        Metho              +++         +++   \n",
              "4                40.0      70.0        Metho              +++         +++   \n",
              "...               ...       ...          ...              ...         ...   \n",
              "40841            40.0      70.0        Metho              +++         +++   \n",
              "40842            40.0      70.0        Metho              +++         +++   \n",
              "40843            40.0      70.0        Metho              +++         +++   \n",
              "40844            40.0      70.0        Metho              +++         +++   \n",
              "40845            40.0      70.0        Metho              +++         +++   \n",
              "\n",
              "      Adranergie Qualité Aplatissement Patient_id  \\\n",
              "0              +                   +++     135866   \n",
              "1              +                   +++     135866   \n",
              "2              +                   +++     135866   \n",
              "3              +                   +++     135866   \n",
              "4              +                   +++     135866   \n",
              "...          ...                   ...        ...   \n",
              "40841          +                   +++     135866   \n",
              "40842          +                   +++     135866   \n",
              "40843          +                   +++     135866   \n",
              "40844          +                   +++     135866   \n",
              "40845          +                   +++     135866   \n",
              "\n",
              "                                           Xls_file_path  \\\n",
              "0      /content/gdrive/My Drive/Sajjad_cloned_ready/1...   \n",
              "1      /content/gdrive/My Drive/Sajjad_cloned_ready/1...   \n",
              "2      /content/gdrive/My Drive/Sajjad_cloned_ready/1...   \n",
              "3      /content/gdrive/My Drive/Sajjad_cloned_ready/1...   \n",
              "4      /content/gdrive/My Drive/Sajjad_cloned_ready/1...   \n",
              "...                                                  ...   \n",
              "40841  /content/gdrive/My Drive/Sajjad_cloned_ready/1...   \n",
              "40842  /content/gdrive/My Drive/Sajjad_cloned_ready/1...   \n",
              "40843  /content/gdrive/My Drive/Sajjad_cloned_ready/1...   \n",
              "40844  /content/gdrive/My Drive/Sajjad_cloned_ready/1...   \n",
              "40845  /content/gdrive/My Drive/Sajjad_cloned_ready/1...   \n",
              "\n",
              "                                           EEG_file_path  \n",
              "0      /content/gdrive/My Drive/Sajjad_cloned_ready/1...  \n",
              "1      /content/gdrive/My Drive/Sajjad_cloned_ready/1...  \n",
              "2      /content/gdrive/My Drive/Sajjad_cloned_ready/1...  \n",
              "3      /content/gdrive/My Drive/Sajjad_cloned_ready/1...  \n",
              "4      /content/gdrive/My Drive/Sajjad_cloned_ready/1...  \n",
              "...                                                  ...  \n",
              "40841  /content/gdrive/My Drive/Sajjad_cloned_ready/1...  \n",
              "40842  /content/gdrive/My Drive/Sajjad_cloned_ready/1...  \n",
              "40843  /content/gdrive/My Drive/Sajjad_cloned_ready/1...  \n",
              "40844  /content/gdrive/My Drive/Sajjad_cloned_ready/1...  \n",
              "40845  /content/gdrive/My Drive/Sajjad_cloned_ready/1...  \n",
              "\n",
              "[40846 rows x 19 columns]"
            ],
            "text/html": [
              "\n",
              "  <div id=\"df-3892dbe9-6bc9-4834-95d8-76f5e37aacb9\">\n",
              "    <div class=\"colab-df-container\">\n",
              "      <div>\n",
              "<style scoped>\n",
              "    .dataframe tbody tr th:only-of-type {\n",
              "        vertical-align: middle;\n",
              "    }\n",
              "\n",
              "    .dataframe tbody tr th {\n",
              "        vertical-align: top;\n",
              "    }\n",
              "\n",
              "    .dataframe thead th {\n",
              "        text-align: right;\n",
              "    }\n",
              "</style>\n",
              "<table border=\"1\" class=\"dataframe\">\n",
              "  <thead>\n",
              "    <tr style=\"text-align: right;\">\n",
              "      <th></th>\n",
              "      <th>EEG0</th>\n",
              "      <th>EEG1</th>\n",
              "      <th>EEG2</th>\n",
              "      <th>EEG3</th>\n",
              "      <th>Date</th>\n",
              "      <th>Ti vs Tt</th>\n",
              "      <th>Site</th>\n",
              "      <th>Phase</th>\n",
              "      <th>% Charge</th>\n",
              "      <th>Durée clinique</th>\n",
              "      <th>Durée EEG</th>\n",
              "      <th>Anesthésiant</th>\n",
              "      <th>Qualité clinique</th>\n",
              "      <th>Qualité EEG</th>\n",
              "      <th>Adranergie</th>\n",
              "      <th>Qualité Aplatissement</th>\n",
              "      <th>Patient_id</th>\n",
              "      <th>Xls_file_path</th>\n",
              "      <th>EEG_file_path</th>\n",
              "    </tr>\n",
              "  </thead>\n",
              "  <tbody>\n",
              "    <tr>\n",
              "      <th>0</th>\n",
              "      <td>13.3</td>\n",
              "      <td>18.6</td>\n",
              "      <td>-0.1</td>\n",
              "      <td>10.4</td>\n",
              "      <td>01-09-2021</td>\n",
              "      <td>Tt</td>\n",
              "      <td>BiT</td>\n",
              "      <td>Entretien</td>\n",
              "      <td>50.0</td>\n",
              "      <td>40.0</td>\n",
              "      <td>70.0</td>\n",
              "      <td>Metho</td>\n",
              "      <td>+++</td>\n",
              "      <td>+++</td>\n",
              "      <td>+</td>\n",
              "      <td>+++</td>\n",
              "      <td>135866</td>\n",
              "      <td>/content/gdrive/My Drive/Sajjad_cloned_ready/1...</td>\n",
              "      <td>/content/gdrive/My Drive/Sajjad_cloned_ready/1...</td>\n",
              "    </tr>\n",
              "    <tr>\n",
              "      <th>1</th>\n",
              "      <td>14.9</td>\n",
              "      <td>21.5</td>\n",
              "      <td>2.4</td>\n",
              "      <td>12.8</td>\n",
              "      <td>01-09-2021</td>\n",
              "      <td>Tt</td>\n",
              "      <td>BiT</td>\n",
              "      <td>Entretien</td>\n",
              "      <td>50.0</td>\n",
              "      <td>40.0</td>\n",
              "      <td>70.0</td>\n",
              "      <td>Metho</td>\n",
              "      <td>+++</td>\n",
              "      <td>+++</td>\n",
              "      <td>+</td>\n",
              "      <td>+++</td>\n",
              "      <td>135866</td>\n",
              "      <td>/content/gdrive/My Drive/Sajjad_cloned_ready/1...</td>\n",
              "      <td>/content/gdrive/My Drive/Sajjad_cloned_ready/1...</td>\n",
              "    </tr>\n",
              "    <tr>\n",
              "      <th>2</th>\n",
              "      <td>15.0</td>\n",
              "      <td>22.8</td>\n",
              "      <td>4.3</td>\n",
              "      <td>14.4</td>\n",
              "      <td>01-09-2021</td>\n",
              "      <td>Tt</td>\n",
              "      <td>BiT</td>\n",
              "      <td>Entretien</td>\n",
              "      <td>50.0</td>\n",
              "      <td>40.0</td>\n",
              "      <td>70.0</td>\n",
              "      <td>Metho</td>\n",
              "      <td>+++</td>\n",
              "      <td>+++</td>\n",
              "      <td>+</td>\n",
              "      <td>+++</td>\n",
              "      <td>135866</td>\n",
              "      <td>/content/gdrive/My Drive/Sajjad_cloned_ready/1...</td>\n",
              "      <td>/content/gdrive/My Drive/Sajjad_cloned_ready/1...</td>\n",
              "    </tr>\n",
              "    <tr>\n",
              "      <th>3</th>\n",
              "      <td>13.5</td>\n",
              "      <td>22.4</td>\n",
              "      <td>5.1</td>\n",
              "      <td>14.9</td>\n",
              "      <td>01-09-2021</td>\n",
              "      <td>Tt</td>\n",
              "      <td>BiT</td>\n",
              "      <td>Entretien</td>\n",
              "      <td>50.0</td>\n",
              "      <td>40.0</td>\n",
              "      <td>70.0</td>\n",
              "      <td>Metho</td>\n",
              "      <td>+++</td>\n",
              "      <td>+++</td>\n",
              "      <td>+</td>\n",
              "      <td>+++</td>\n",
              "      <td>135866</td>\n",
              "      <td>/content/gdrive/My Drive/Sajjad_cloned_ready/1...</td>\n",
              "      <td>/content/gdrive/My Drive/Sajjad_cloned_ready/1...</td>\n",
              "    </tr>\n",
              "    <tr>\n",
              "      <th>4</th>\n",
              "      <td>10.5</td>\n",
              "      <td>20.6</td>\n",
              "      <td>4.4</td>\n",
              "      <td>14.5</td>\n",
              "      <td>01-09-2021</td>\n",
              "      <td>Tt</td>\n",
              "      <td>BiT</td>\n",
              "      <td>Entretien</td>\n",
              "      <td>50.0</td>\n",
              "      <td>40.0</td>\n",
              "      <td>70.0</td>\n",
              "      <td>Metho</td>\n",
              "      <td>+++</td>\n",
              "      <td>+++</td>\n",
              "      <td>+</td>\n",
              "      <td>+++</td>\n",
              "      <td>135866</td>\n",
              "      <td>/content/gdrive/My Drive/Sajjad_cloned_ready/1...</td>\n",
              "      <td>/content/gdrive/My Drive/Sajjad_cloned_ready/1...</td>\n",
              "    </tr>\n",
              "    <tr>\n",
              "      <th>...</th>\n",
              "      <td>...</td>\n",
              "      <td>...</td>\n",
              "      <td>...</td>\n",
              "      <td>...</td>\n",
              "      <td>...</td>\n",
              "      <td>...</td>\n",
              "      <td>...</td>\n",
              "      <td>...</td>\n",
              "      <td>...</td>\n",
              "      <td>...</td>\n",
              "      <td>...</td>\n",
              "      <td>...</td>\n",
              "      <td>...</td>\n",
              "      <td>...</td>\n",
              "      <td>...</td>\n",
              "      <td>...</td>\n",
              "      <td>...</td>\n",
              "      <td>...</td>\n",
              "      <td>...</td>\n",
              "    </tr>\n",
              "    <tr>\n",
              "      <th>40841</th>\n",
              "      <td>-30.1</td>\n",
              "      <td>-17.6</td>\n",
              "      <td>-9.0</td>\n",
              "      <td>10.3</td>\n",
              "      <td>01-09-2021</td>\n",
              "      <td>Tt</td>\n",
              "      <td>BiT</td>\n",
              "      <td>Entretien</td>\n",
              "      <td>50.0</td>\n",
              "      <td>40.0</td>\n",
              "      <td>70.0</td>\n",
              "      <td>Metho</td>\n",
              "      <td>+++</td>\n",
              "      <td>+++</td>\n",
              "      <td>+</td>\n",
              "      <td>+++</td>\n",
              "      <td>135866</td>\n",
              "      <td>/content/gdrive/My Drive/Sajjad_cloned_ready/1...</td>\n",
              "      <td>/content/gdrive/My Drive/Sajjad_cloned_ready/1...</td>\n",
              "    </tr>\n",
              "    <tr>\n",
              "      <th>40842</th>\n",
              "      <td>-29.3</td>\n",
              "      <td>-17.5</td>\n",
              "      <td>-8.8</td>\n",
              "      <td>10.1</td>\n",
              "      <td>01-09-2021</td>\n",
              "      <td>Tt</td>\n",
              "      <td>BiT</td>\n",
              "      <td>Entretien</td>\n",
              "      <td>50.0</td>\n",
              "      <td>40.0</td>\n",
              "      <td>70.0</td>\n",
              "      <td>Metho</td>\n",
              "      <td>+++</td>\n",
              "      <td>+++</td>\n",
              "      <td>+</td>\n",
              "      <td>+++</td>\n",
              "      <td>135866</td>\n",
              "      <td>/content/gdrive/My Drive/Sajjad_cloned_ready/1...</td>\n",
              "      <td>/content/gdrive/My Drive/Sajjad_cloned_ready/1...</td>\n",
              "    </tr>\n",
              "    <tr>\n",
              "      <th>40843</th>\n",
              "      <td>-28.3</td>\n",
              "      <td>-17.1</td>\n",
              "      <td>-8.4</td>\n",
              "      <td>9.3</td>\n",
              "      <td>01-09-2021</td>\n",
              "      <td>Tt</td>\n",
              "      <td>BiT</td>\n",
              "      <td>Entretien</td>\n",
              "      <td>50.0</td>\n",
              "      <td>40.0</td>\n",
              "      <td>70.0</td>\n",
              "      <td>Metho</td>\n",
              "      <td>+++</td>\n",
              "      <td>+++</td>\n",
              "      <td>+</td>\n",
              "      <td>+++</td>\n",
              "      <td>135866</td>\n",
              "      <td>/content/gdrive/My Drive/Sajjad_cloned_ready/1...</td>\n",
              "      <td>/content/gdrive/My Drive/Sajjad_cloned_ready/1...</td>\n",
              "    </tr>\n",
              "    <tr>\n",
              "      <th>40844</th>\n",
              "      <td>-27.1</td>\n",
              "      <td>-16.4</td>\n",
              "      <td>-7.8</td>\n",
              "      <td>7.8</td>\n",
              "      <td>01-09-2021</td>\n",
              "      <td>Tt</td>\n",
              "      <td>BiT</td>\n",
              "      <td>Entretien</td>\n",
              "      <td>50.0</td>\n",
              "      <td>40.0</td>\n",
              "      <td>70.0</td>\n",
              "      <td>Metho</td>\n",
              "      <td>+++</td>\n",
              "      <td>+++</td>\n",
              "      <td>+</td>\n",
              "      <td>+++</td>\n",
              "      <td>135866</td>\n",
              "      <td>/content/gdrive/My Drive/Sajjad_cloned_ready/1...</td>\n",
              "      <td>/content/gdrive/My Drive/Sajjad_cloned_ready/1...</td>\n",
              "    </tr>\n",
              "    <tr>\n",
              "      <th>40845</th>\n",
              "      <td>-25.9</td>\n",
              "      <td>-15.4</td>\n",
              "      <td>-7.3</td>\n",
              "      <td>6.4</td>\n",
              "      <td>01-09-2021</td>\n",
              "      <td>Tt</td>\n",
              "      <td>BiT</td>\n",
              "      <td>Entretien</td>\n",
              "      <td>50.0</td>\n",
              "      <td>40.0</td>\n",
              "      <td>70.0</td>\n",
              "      <td>Metho</td>\n",
              "      <td>+++</td>\n",
              "      <td>+++</td>\n",
              "      <td>+</td>\n",
              "      <td>+++</td>\n",
              "      <td>135866</td>\n",
              "      <td>/content/gdrive/My Drive/Sajjad_cloned_ready/1...</td>\n",
              "      <td>/content/gdrive/My Drive/Sajjad_cloned_ready/1...</td>\n",
              "    </tr>\n",
              "  </tbody>\n",
              "</table>\n",
              "<p>40846 rows × 19 columns</p>\n",
              "</div>\n",
              "      <button class=\"colab-df-convert\" onclick=\"convertToInteractive('df-3892dbe9-6bc9-4834-95d8-76f5e37aacb9')\"\n",
              "              title=\"Convert this dataframe to an interactive table.\"\n",
              "              style=\"display:none;\">\n",
              "        \n",
              "  <svg xmlns=\"http://www.w3.org/2000/svg\" height=\"24px\"viewBox=\"0 0 24 24\"\n",
              "       width=\"24px\">\n",
              "    <path d=\"M0 0h24v24H0V0z\" fill=\"none\"/>\n",
              "    <path d=\"M18.56 5.44l.94 2.06.94-2.06 2.06-.94-2.06-.94-.94-2.06-.94 2.06-2.06.94zm-11 1L8.5 8.5l.94-2.06 2.06-.94-2.06-.94L8.5 2.5l-.94 2.06-2.06.94zm10 10l.94 2.06.94-2.06 2.06-.94-2.06-.94-.94-2.06-.94 2.06-2.06.94z\"/><path d=\"M17.41 7.96l-1.37-1.37c-.4-.4-.92-.59-1.43-.59-.52 0-1.04.2-1.43.59L10.3 9.45l-7.72 7.72c-.78.78-.78 2.05 0 2.83L4 21.41c.39.39.9.59 1.41.59.51 0 1.02-.2 1.41-.59l7.78-7.78 2.81-2.81c.8-.78.8-2.07 0-2.86zM5.41 20L4 18.59l7.72-7.72 1.47 1.35L5.41 20z\"/>\n",
              "  </svg>\n",
              "      </button>\n",
              "      \n",
              "  <style>\n",
              "    .colab-df-container {\n",
              "      display:flex;\n",
              "      flex-wrap:wrap;\n",
              "      gap: 12px;\n",
              "    }\n",
              "\n",
              "    .colab-df-convert {\n",
              "      background-color: #E8F0FE;\n",
              "      border: none;\n",
              "      border-radius: 50%;\n",
              "      cursor: pointer;\n",
              "      display: none;\n",
              "      fill: #1967D2;\n",
              "      height: 32px;\n",
              "      padding: 0 0 0 0;\n",
              "      width: 32px;\n",
              "    }\n",
              "\n",
              "    .colab-df-convert:hover {\n",
              "      background-color: #E2EBFA;\n",
              "      box-shadow: 0px 1px 2px rgba(60, 64, 67, 0.3), 0px 1px 3px 1px rgba(60, 64, 67, 0.15);\n",
              "      fill: #174EA6;\n",
              "    }\n",
              "\n",
              "    [theme=dark] .colab-df-convert {\n",
              "      background-color: #3B4455;\n",
              "      fill: #D2E3FC;\n",
              "    }\n",
              "\n",
              "    [theme=dark] .colab-df-convert:hover {\n",
              "      background-color: #434B5C;\n",
              "      box-shadow: 0px 1px 3px 1px rgba(0, 0, 0, 0.15);\n",
              "      filter: drop-shadow(0px 1px 2px rgba(0, 0, 0, 0.3));\n",
              "      fill: #FFFFFF;\n",
              "    }\n",
              "  </style>\n",
              "\n",
              "      <script>\n",
              "        const buttonEl =\n",
              "          document.querySelector('#df-3892dbe9-6bc9-4834-95d8-76f5e37aacb9 button.colab-df-convert');\n",
              "        buttonEl.style.display =\n",
              "          google.colab.kernel.accessAllowed ? 'block' : 'none';\n",
              "\n",
              "        async function convertToInteractive(key) {\n",
              "          const element = document.querySelector('#df-3892dbe9-6bc9-4834-95d8-76f5e37aacb9');\n",
              "          const dataTable =\n",
              "            await google.colab.kernel.invokeFunction('convertToInteractive',\n",
              "                                                     [key], {});\n",
              "          if (!dataTable) return;\n",
              "\n",
              "          const docLinkHtml = 'Like what you see? Visit the ' +\n",
              "            '<a target=\"_blank\" href=https://colab.research.google.com/notebooks/data_table.ipynb>data table notebook</a>'\n",
              "            + ' to learn more about interactive tables.';\n",
              "          element.innerHTML = '';\n",
              "          dataTable['output_type'] = 'display_data';\n",
              "          await google.colab.output.renderOutput(dataTable, element);\n",
              "          const docLink = document.createElement('div');\n",
              "          docLink.innerHTML = docLinkHtml;\n",
              "          element.appendChild(docLink);\n",
              "        }\n",
              "      </script>\n",
              "    </div>\n",
              "  </div>\n",
              "  "
            ]
          },
          "metadata": {},
          "execution_count": 13
        }
      ]
    }
  ]
}