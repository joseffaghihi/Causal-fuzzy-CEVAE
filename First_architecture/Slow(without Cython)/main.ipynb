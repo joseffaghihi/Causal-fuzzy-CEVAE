{
  "nbformat": 4,
  "nbformat_minor": 0,
  "metadata": {
    "colab": {
      "name": "Copy of Copy of lasss.ipynb",
      "provenance": [],
      "collapsed_sections": []
    },
    "kernelspec": {
      "display_name": "Python 3",
      "name": "python3"
    }
  },
  "cells": [
    {
      "cell_type": "code",
      "metadata": {
        "colab": {
          "base_uri": "https://localhost:8080/",
          "height": 1000
        },
        "id": "7hXhv2hfMYvC",
        "outputId": "424585cd-e214-48e8-db9f-35171233e215"
      },
      "source": [
        "!pip install causalml"
      ],
      "execution_count": null,
      "outputs": [
        {
          "output_type": "stream",
          "text": [
            "Collecting causalml\n",
            "  Downloading causalml-0.10.0.tar.gz (235 kB)\n",
            "\u001b[?25l\r\u001b[K     |█▍                              | 10 kB 19.7 MB/s eta 0:00:01\r\u001b[K     |██▉                             | 20 kB 23.4 MB/s eta 0:00:01\r\u001b[K     |████▏                           | 30 kB 24.7 MB/s eta 0:00:01\r\u001b[K     |█████▋                          | 40 kB 26.3 MB/s eta 0:00:01\r\u001b[K     |███████                         | 51 kB 24.1 MB/s eta 0:00:01\r\u001b[K     |████████▍                       | 61 kB 26.3 MB/s eta 0:00:01\r\u001b[K     |█████████▊                      | 71 kB 22.5 MB/s eta 0:00:01\r\u001b[K     |███████████▏                    | 81 kB 23.8 MB/s eta 0:00:01\r\u001b[K     |████████████▌                   | 92 kB 25.3 MB/s eta 0:00:01\r\u001b[K     |██████████████                  | 102 kB 26.9 MB/s eta 0:00:01\r\u001b[K     |███████████████▎                | 112 kB 26.9 MB/s eta 0:00:01\r\u001b[K     |████████████████▊               | 122 kB 26.9 MB/s eta 0:00:01\r\u001b[K     |██████████████████              | 133 kB 26.9 MB/s eta 0:00:01\r\u001b[K     |███████████████████▌            | 143 kB 26.9 MB/s eta 0:00:01\r\u001b[K     |████████████████████▉           | 153 kB 26.9 MB/s eta 0:00:01\r\u001b[K     |██████████████████████▎         | 163 kB 26.9 MB/s eta 0:00:01\r\u001b[K     |███████████████████████▋        | 174 kB 26.9 MB/s eta 0:00:01\r\u001b[K     |█████████████████████████       | 184 kB 26.9 MB/s eta 0:00:01\r\u001b[K     |██████████████████████████▍     | 194 kB 26.9 MB/s eta 0:00:01\r\u001b[K     |███████████████████████████▉    | 204 kB 26.9 MB/s eta 0:00:01\r\u001b[K     |█████████████████████████████▏  | 215 kB 26.9 MB/s eta 0:00:01\r\u001b[K     |██████████████████████████████▋ | 225 kB 26.9 MB/s eta 0:00:01\r\u001b[K     |████████████████████████████████| 235 kB 26.9 MB/s eta 0:00:01\r\u001b[K     |████████████████████████████████| 235 kB 26.9 MB/s \n",
            "\u001b[?25hRequirement already satisfied: setuptools>=41.0.0 in /usr/local/lib/python3.7/dist-packages (from causalml) (57.2.0)\n",
            "Requirement already satisfied: pip>=10.0 in /usr/local/lib/python3.7/dist-packages (from causalml) (21.1.3)\n",
            "Collecting numpy<1.19.0,>=0.16.0\n",
            "  Downloading numpy-1.18.5-cp37-cp37m-manylinux1_x86_64.whl (20.1 MB)\n",
            "\u001b[K     |████████████████████████████████| 20.1 MB 1.5 MB/s \n",
            "\u001b[?25hRequirement already satisfied: scipy==1.4.1 in /usr/local/lib/python3.7/dist-packages (from causalml) (1.4.1)\n",
            "Requirement already satisfied: matplotlib in /usr/local/lib/python3.7/dist-packages (from causalml) (3.2.2)\n",
            "Requirement already satisfied: pandas>=0.24.1 in /usr/local/lib/python3.7/dist-packages (from causalml) (1.1.5)\n",
            "Requirement already satisfied: scikit-learn<0.24.0,>=0.22.0 in /usr/local/lib/python3.7/dist-packages (from causalml) (0.22.2.post1)\n",
            "Requirement already satisfied: statsmodels>=0.9.0 in /usr/local/lib/python3.7/dist-packages (from causalml) (0.10.2)\n",
            "Requirement already satisfied: seaborn in /usr/local/lib/python3.7/dist-packages (from causalml) (0.11.1)\n",
            "Requirement already satisfied: Cython>=0.28.0 in /usr/local/lib/python3.7/dist-packages (from causalml) (0.29.23)\n",
            "Requirement already satisfied: xgboost in /usr/local/lib/python3.7/dist-packages (from causalml) (0.90)\n",
            "Requirement already satisfied: pydotplus in /usr/local/lib/python3.7/dist-packages (from causalml) (2.0.2)\n",
            "Requirement already satisfied: tqdm in /usr/local/lib/python3.7/dist-packages (from causalml) (4.41.1)\n",
            "Collecting shap<0.38.1\n",
            "  Downloading shap-0.37.0.tar.gz (326 kB)\n",
            "\u001b[K     |████████████████████████████████| 326 kB 49.8 MB/s \n",
            "\u001b[?25hRequirement already satisfied: dill in /usr/local/lib/python3.7/dist-packages (from causalml) (0.3.4)\n",
            "Requirement already satisfied: lightgbm in /usr/local/lib/python3.7/dist-packages (from causalml) (2.2.3)\n",
            "Collecting pygam\n",
            "  Downloading pygam-0.8.0-py2.py3-none-any.whl (1.8 MB)\n",
            "\u001b[K     |████████████████████████████████| 1.8 MB 39.1 MB/s \n",
            "\u001b[?25hRequirement already satisfied: packaging in /usr/local/lib/python3.7/dist-packages (from causalml) (21.0)\n",
            "Requirement already satisfied: keras in /usr/local/lib/python3.7/dist-packages (from causalml) (2.4.3)\n",
            "Requirement already satisfied: tensorflow>=1.15.2 in /usr/local/lib/python3.7/dist-packages (from causalml) (2.5.0)\n",
            "Requirement already satisfied: torch in /usr/local/lib/python3.7/dist-packages (from causalml) (1.9.0+cu102)\n",
            "Collecting pyro-ppl\n",
            "  Downloading pyro_ppl-1.7.0-py3-none-any.whl (678 kB)\n",
            "\u001b[K     |████████████████████████████████| 678 kB 44.0 MB/s \n",
            "\u001b[?25hRequirement already satisfied: python-dateutil>=2.7.3 in /usr/local/lib/python3.7/dist-packages (from pandas>=0.24.1->causalml) (2.8.1)\n",
            "Requirement already satisfied: pytz>=2017.2 in /usr/local/lib/python3.7/dist-packages (from pandas>=0.24.1->causalml) (2018.9)\n",
            "Requirement already satisfied: six>=1.5 in /usr/local/lib/python3.7/dist-packages (from python-dateutil>=2.7.3->pandas>=0.24.1->causalml) (1.15.0)\n",
            "Requirement already satisfied: joblib>=0.11 in /usr/local/lib/python3.7/dist-packages (from scikit-learn<0.24.0,>=0.22.0->causalml) (1.0.1)\n",
            "Collecting slicer==0.0.3\n",
            "  Downloading slicer-0.0.3-py3-none-any.whl (11 kB)\n",
            "Requirement already satisfied: numba in /usr/local/lib/python3.7/dist-packages (from shap<0.38.1->causalml) (0.51.2)\n",
            "Requirement already satisfied: patsy>=0.4.0 in /usr/local/lib/python3.7/dist-packages (from statsmodels>=0.9.0->causalml) (0.5.1)\n",
            "Requirement already satisfied: typing-extensions~=3.7.4 in /usr/local/lib/python3.7/dist-packages (from tensorflow>=1.15.2->causalml) (3.7.4.3)\n",
            "Requirement already satisfied: astunparse~=1.6.3 in /usr/local/lib/python3.7/dist-packages (from tensorflow>=1.15.2->causalml) (1.6.3)\n",
            "Requirement already satisfied: keras-preprocessing~=1.1.2 in /usr/local/lib/python3.7/dist-packages (from tensorflow>=1.15.2->causalml) (1.1.2)\n",
            "Requirement already satisfied: wrapt~=1.12.1 in /usr/local/lib/python3.7/dist-packages (from tensorflow>=1.15.2->causalml) (1.12.1)\n",
            "Requirement already satisfied: keras-nightly~=2.5.0.dev in /usr/local/lib/python3.7/dist-packages (from tensorflow>=1.15.2->causalml) (2.5.0.dev2021032900)\n",
            "Requirement already satisfied: wheel~=0.35 in /usr/local/lib/python3.7/dist-packages (from tensorflow>=1.15.2->causalml) (0.36.2)\n",
            "Requirement already satisfied: google-pasta~=0.2 in /usr/local/lib/python3.7/dist-packages (from tensorflow>=1.15.2->causalml) (0.2.0)\n",
            "Requirement already satisfied: tensorboard~=2.5 in /usr/local/lib/python3.7/dist-packages (from tensorflow>=1.15.2->causalml) (2.5.0)\n",
            "Requirement already satisfied: h5py~=3.1.0 in /usr/local/lib/python3.7/dist-packages (from tensorflow>=1.15.2->causalml) (3.1.0)\n",
            "Collecting tensorflow>=1.15.2\n",
            "  Downloading tensorflow-2.4.2-cp37-cp37m-manylinux2010_x86_64.whl (394.5 MB)\n",
            "\u001b[K     |████████████████████████████████| 394.5 MB 27 kB/s \n",
            "\u001b[?25hCollecting tensorflow-estimator<2.5.0,>=2.4.0\n",
            "  Downloading tensorflow_estimator-2.4.0-py2.py3-none-any.whl (462 kB)\n",
            "\u001b[K     |████████████████████████████████| 462 kB 55.5 MB/s \n",
            "\u001b[?25hCollecting gast==0.3.3\n",
            "  Downloading gast-0.3.3-py2.py3-none-any.whl (9.7 kB)\n",
            "Requirement already satisfied: absl-py~=0.10 in /usr/local/lib/python3.7/dist-packages (from tensorflow>=1.15.2->causalml) (0.12.0)\n",
            "Collecting grpcio~=1.32.0\n",
            "  Downloading grpcio-1.32.0-cp37-cp37m-manylinux2014_x86_64.whl (3.8 MB)\n",
            "\u001b[K     |████████████████████████████████| 3.8 MB 33.7 MB/s \n",
            "\u001b[?25hRequirement already satisfied: opt-einsum~=3.3.0 in /usr/local/lib/python3.7/dist-packages (from tensorflow>=1.15.2->causalml) (3.3.0)\n",
            "Requirement already satisfied: protobuf>=3.9.2 in /usr/local/lib/python3.7/dist-packages (from tensorflow>=1.15.2->causalml) (3.17.3)\n",
            "Collecting tensorflow>=1.15.2\n",
            "  Downloading tensorflow-2.4.1-cp37-cp37m-manylinux2010_x86_64.whl (394.3 MB)\n",
            "\u001b[K     |████████████████████████████████| 394.3 MB 15 kB/s \n",
            "\u001b[?25h  Downloading tensorflow-2.4.0-cp37-cp37m-manylinux2010_x86_64.whl (394.7 MB)\n",
            "\u001b[K     |████████████████████████████████| 394.7 MB 7.5 kB/s \n",
            "\u001b[?25h  Downloading tensorflow-2.3.3-cp37-cp37m-manylinux2010_x86_64.whl (320.5 MB)\n",
            "\u001b[K     |████████████████████████████████| 320.5 MB 4.8 kB/s \n",
            "\u001b[?25hCollecting tensorflow-estimator<2.4.0,>=2.3.0\n",
            "  Downloading tensorflow_estimator-2.3.0-py2.py3-none-any.whl (459 kB)\n",
            "\u001b[K     |████████████████████████████████| 459 kB 58.9 MB/s \n",
            "\u001b[?25hRequirement already satisfied: termcolor>=1.1.0 in /usr/local/lib/python3.7/dist-packages (from tensorflow>=1.15.2->causalml) (1.1.0)\n",
            "Requirement already satisfied: grpcio>=1.8.6 in /usr/local/lib/python3.7/dist-packages (from tensorflow>=1.15.2->causalml) (1.34.1)\n",
            "Collecting h5py<2.11.0,>=2.10.0\n",
            "  Downloading h5py-2.10.0-cp37-cp37m-manylinux1_x86_64.whl (2.9 MB)\n",
            "\u001b[K     |████████████████████████████████| 2.9 MB 23.1 MB/s \n",
            "\u001b[?25hRequirement already satisfied: requests<3,>=2.21.0 in /usr/local/lib/python3.7/dist-packages (from tensorboard~=2.5->tensorflow>=1.15.2->causalml) (2.23.0)\n",
            "Requirement already satisfied: google-auth<2,>=1.6.3 in /usr/local/lib/python3.7/dist-packages (from tensorboard~=2.5->tensorflow>=1.15.2->causalml) (1.32.1)\n",
            "Requirement already satisfied: markdown>=2.6.8 in /usr/local/lib/python3.7/dist-packages (from tensorboard~=2.5->tensorflow>=1.15.2->causalml) (3.3.4)\n",
            "Requirement already satisfied: werkzeug>=0.11.15 in /usr/local/lib/python3.7/dist-packages (from tensorboard~=2.5->tensorflow>=1.15.2->causalml) (1.0.1)\n",
            "Requirement already satisfied: google-auth-oauthlib<0.5,>=0.4.1 in /usr/local/lib/python3.7/dist-packages (from tensorboard~=2.5->tensorflow>=1.15.2->causalml) (0.4.4)\n",
            "Requirement already satisfied: tensorboard-data-server<0.7.0,>=0.6.0 in /usr/local/lib/python3.7/dist-packages (from tensorboard~=2.5->tensorflow>=1.15.2->causalml) (0.6.1)\n",
            "Requirement already satisfied: tensorboard-plugin-wit>=1.6.0 in /usr/local/lib/python3.7/dist-packages (from tensorboard~=2.5->tensorflow>=1.15.2->causalml) (1.8.0)\n",
            "Requirement already satisfied: rsa<5,>=3.1.4 in /usr/local/lib/python3.7/dist-packages (from google-auth<2,>=1.6.3->tensorboard~=2.5->tensorflow>=1.15.2->causalml) (4.7.2)\n",
            "Requirement already satisfied: pyasn1-modules>=0.2.1 in /usr/local/lib/python3.7/dist-packages (from google-auth<2,>=1.6.3->tensorboard~=2.5->tensorflow>=1.15.2->causalml) (0.2.8)\n",
            "Requirement already satisfied: cachetools<5.0,>=2.0.0 in /usr/local/lib/python3.7/dist-packages (from google-auth<2,>=1.6.3->tensorboard~=2.5->tensorflow>=1.15.2->causalml) (4.2.2)\n",
            "Requirement already satisfied: requests-oauthlib>=0.7.0 in /usr/local/lib/python3.7/dist-packages (from google-auth-oauthlib<0.5,>=0.4.1->tensorboard~=2.5->tensorflow>=1.15.2->causalml) (1.3.0)\n",
            "Requirement already satisfied: importlib-metadata in /usr/local/lib/python3.7/dist-packages (from markdown>=2.6.8->tensorboard~=2.5->tensorflow>=1.15.2->causalml) (4.6.1)\n",
            "Requirement already satisfied: pyasn1<0.5.0,>=0.4.6 in /usr/local/lib/python3.7/dist-packages (from pyasn1-modules>=0.2.1->google-auth<2,>=1.6.3->tensorboard~=2.5->tensorflow>=1.15.2->causalml) (0.4.8)\n",
            "Requirement already satisfied: chardet<4,>=3.0.2 in /usr/local/lib/python3.7/dist-packages (from requests<3,>=2.21.0->tensorboard~=2.5->tensorflow>=1.15.2->causalml) (3.0.4)\n",
            "Requirement already satisfied: certifi>=2017.4.17 in /usr/local/lib/python3.7/dist-packages (from requests<3,>=2.21.0->tensorboard~=2.5->tensorflow>=1.15.2->causalml) (2021.5.30)\n",
            "Requirement already satisfied: idna<3,>=2.5 in /usr/local/lib/python3.7/dist-packages (from requests<3,>=2.21.0->tensorboard~=2.5->tensorflow>=1.15.2->causalml) (2.10)\n",
            "Requirement already satisfied: urllib3!=1.25.0,!=1.25.1,<1.26,>=1.21.1 in /usr/local/lib/python3.7/dist-packages (from requests<3,>=2.21.0->tensorboard~=2.5->tensorflow>=1.15.2->causalml) (1.24.3)\n",
            "Requirement already satisfied: oauthlib>=3.0.0 in /usr/local/lib/python3.7/dist-packages (from requests-oauthlib>=0.7.0->google-auth-oauthlib<0.5,>=0.4.1->tensorboard~=2.5->tensorflow>=1.15.2->causalml) (3.1.1)\n",
            "Requirement already satisfied: zipp>=0.5 in /usr/local/lib/python3.7/dist-packages (from importlib-metadata->markdown>=2.6.8->tensorboard~=2.5->tensorflow>=1.15.2->causalml) (3.5.0)\n",
            "Requirement already satisfied: pyyaml in /usr/local/lib/python3.7/dist-packages (from keras->causalml) (3.13)\n",
            "Requirement already satisfied: pyparsing!=2.0.4,!=2.1.2,!=2.1.6,>=2.0.1 in /usr/local/lib/python3.7/dist-packages (from matplotlib->causalml) (2.4.7)\n",
            "Requirement already satisfied: cycler>=0.10 in /usr/local/lib/python3.7/dist-packages (from matplotlib->causalml) (0.10.0)\n",
            "Requirement already satisfied: kiwisolver>=1.0.1 in /usr/local/lib/python3.7/dist-packages (from matplotlib->causalml) (1.3.1)\n",
            "Requirement already satisfied: llvmlite<0.35,>=0.34.0.dev0 in /usr/local/lib/python3.7/dist-packages (from numba->shap<0.38.1->causalml) (0.34.0)\n",
            "Requirement already satisfied: progressbar2 in /usr/local/lib/python3.7/dist-packages (from pygam->causalml) (3.38.0)\n",
            "Requirement already satisfied: future in /usr/local/lib/python3.7/dist-packages (from pygam->causalml) (0.16.0)\n",
            "Requirement already satisfied: python-utils>=2.3.0 in /usr/local/lib/python3.7/dist-packages (from progressbar2->pygam->causalml) (2.5.6)\n",
            "Collecting pyro-api>=0.1.1\n",
            "  Downloading pyro_api-0.1.2-py3-none-any.whl (11 kB)\n",
            "Building wheels for collected packages: causalml, shap\n",
            "  Building wheel for causalml (setup.py) ... \u001b[?25l\u001b[?25hdone\n",
            "  Created wheel for causalml: filename=causalml-0.10.0-cp37-cp37m-linux_x86_64.whl size=493727 sha256=9d33503103d721129d8287fd81fef506b5bc6b87420a56eb152df9075284d043\n",
            "  Stored in directory: /root/.cache/pip/wheels/20/62/e4/1b01b29045cc20fcf5e5df417f93fd51fa21f2af233241e9a4\n",
            "  Building wheel for shap (setup.py) ... \u001b[?25l\u001b[?25hdone\n",
            "  Created wheel for shap: filename=shap-0.37.0-cp37-cp37m-linux_x86_64.whl size=465064 sha256=c47cf57687437815f77826b4f925b3d219dc4b7911986c5b66eed6b95b038a73\n",
            "  Stored in directory: /root/.cache/pip/wheels/df/b8/18/2c0a6105152e62dd9a7cf47b5110b9cedb0c8739babdef64b7\n",
            "Successfully built causalml shap\n",
            "Installing collected packages: numpy, tensorflow-estimator, slicer, pyro-api, h5py, gast, tensorflow, shap, pyro-ppl, pygam, causalml\n",
            "  Attempting uninstall: numpy\n",
            "    Found existing installation: numpy 1.19.5\n",
            "    Uninstalling numpy-1.19.5:\n",
            "      Successfully uninstalled numpy-1.19.5\n",
            "  Attempting uninstall: tensorflow-estimator\n",
            "    Found existing installation: tensorflow-estimator 2.5.0\n",
            "    Uninstalling tensorflow-estimator-2.5.0:\n",
            "      Successfully uninstalled tensorflow-estimator-2.5.0\n",
            "  Attempting uninstall: h5py\n",
            "    Found existing installation: h5py 3.1.0\n",
            "    Uninstalling h5py-3.1.0:\n",
            "      Successfully uninstalled h5py-3.1.0\n",
            "  Attempting uninstall: gast\n",
            "    Found existing installation: gast 0.4.0\n",
            "    Uninstalling gast-0.4.0:\n",
            "      Successfully uninstalled gast-0.4.0\n",
            "  Attempting uninstall: tensorflow\n",
            "    Found existing installation: tensorflow 2.5.0\n",
            "    Uninstalling tensorflow-2.5.0:\n",
            "      Successfully uninstalled tensorflow-2.5.0\n",
            "\u001b[31mERROR: pip's dependency resolver does not currently take into account all the packages that are installed. This behaviour is the source of the following dependency conflicts.\n",
            "datascience 0.10.6 requires folium==0.2.1, but you have folium 0.8.3 which is incompatible.\n",
            "albumentations 0.1.12 requires imgaug<0.2.7,>=0.2.5, but you have imgaug 0.2.9 which is incompatible.\u001b[0m\n",
            "Successfully installed causalml-0.10.0 gast-0.3.3 h5py-2.10.0 numpy-1.18.5 pygam-0.8.0 pyro-api-0.1.2 pyro-ppl-1.7.0 shap-0.37.0 slicer-0.0.3 tensorflow-2.3.3 tensorflow-estimator-2.3.0\n"
          ],
          "name": "stdout"
        },
        {
          "output_type": "display_data",
          "data": {
            "application/vnd.colab-display-data+json": {
              "pip_warning": {
                "packages": [
                  "numpy"
                ]
              }
            }
          },
          "metadata": {
            "tags": []
          }
        }
      ]
    },
    {
      "cell_type": "code",
      "metadata": {
        "id": "Jp3qDxZmF6Td"
      },
      "source": [
        "!git clone https://github.com/joseffaghihi/Causal-fuzzy-CEVAE.git\n",
        "%cd Causal-fuzzy-CEVAE\n",
        "%cd First_architecture\n",
        "%cd Slow(without Cython)\n",
        "!unzip pyro-dev.zip\n",
        "%cd pyro-dev\n",
        "!python setup.py install"
      ],
      "execution_count": null,
      "outputs": []
    },
    {
      "cell_type": "code",
      "metadata": {
        "id": "LvmwfYF27p17",
        "colab": {
          "base_uri": "https://localhost:8080/"
        },
        "outputId": "4d6068af-19a5-4bad-882e-91c470f1e761"
      },
      "source": [
        "!pip install -U scikit-fuzzy\n",
        "\n",
        "\n",
        "import numpy as np\n",
        "import skfuzzy as fuzz\n",
        "from skfuzzy import control as ctrl\n",
        "import tensorflow as tf\n",
        "from __future__ import absolute_import, division, print_function\n",
        "import sys\n",
        "import matplotlib.pyplot as plt\n",
        "import logging\n",
        "\n",
        "import torch\n",
        "import torch.nn as nn\n",
        "from torch.utils.data import DataLoader, TensorDataset\n",
        "\n",
        "import pyro\n",
        "import pyro.distributions as dist\n",
        "from pyro import poutine\n",
        "from pyro.infer import SVI, Trace_ELBO\n",
        "from pyro.infer.util import torch_item\n",
        "from pyro.nn import PyroModule\n",
        "from pyro.optim import ClippedAdam\n",
        "from pyro.util import torch_isnan\n",
        "\n",
        "logger = logging.getLogger(__name__)\n"
      ],
      "execution_count": null,
      "outputs": [
        {
          "output_type": "stream",
          "text": [
            "Collecting scikit-fuzzy\n",
            "  Downloading scikit-fuzzy-0.4.2.tar.gz (993 kB)\n",
            "\u001b[?25l\r\u001b[K     |▎                               | 10 kB 21.5 MB/s eta 0:00:01\r\u001b[K     |▋                               | 20 kB 25.5 MB/s eta 0:00:01\r\u001b[K     |█                               | 30 kB 27.1 MB/s eta 0:00:01\r\u001b[K     |█▎                              | 40 kB 29.4 MB/s eta 0:00:01\r\u001b[K     |█▋                              | 51 kB 31.5 MB/s eta 0:00:01\r\u001b[K     |██                              | 61 kB 31.6 MB/s eta 0:00:01\r\u001b[K     |██▎                             | 71 kB 31.8 MB/s eta 0:00:01\r\u001b[K     |██▋                             | 81 kB 32.4 MB/s eta 0:00:01\r\u001b[K     |███                             | 92 kB 31.3 MB/s eta 0:00:01\r\u001b[K     |███▎                            | 102 kB 33.0 MB/s eta 0:00:01\r\u001b[K     |███▋                            | 112 kB 33.0 MB/s eta 0:00:01\r\u001b[K     |████                            | 122 kB 33.0 MB/s eta 0:00:01\r\u001b[K     |████▎                           | 133 kB 33.0 MB/s eta 0:00:01\r\u001b[K     |████▋                           | 143 kB 33.0 MB/s eta 0:00:01\r\u001b[K     |█████                           | 153 kB 33.0 MB/s eta 0:00:01\r\u001b[K     |█████▎                          | 163 kB 33.0 MB/s eta 0:00:01\r\u001b[K     |█████▋                          | 174 kB 33.0 MB/s eta 0:00:01\r\u001b[K     |██████                          | 184 kB 33.0 MB/s eta 0:00:01\r\u001b[K     |██████▎                         | 194 kB 33.0 MB/s eta 0:00:01\r\u001b[K     |██████▋                         | 204 kB 33.0 MB/s eta 0:00:01\r\u001b[K     |███████                         | 215 kB 33.0 MB/s eta 0:00:01\r\u001b[K     |███████▎                        | 225 kB 33.0 MB/s eta 0:00:01\r\u001b[K     |███████▋                        | 235 kB 33.0 MB/s eta 0:00:01\r\u001b[K     |████████                        | 245 kB 33.0 MB/s eta 0:00:01\r\u001b[K     |████████▎                       | 256 kB 33.0 MB/s eta 0:00:01\r\u001b[K     |████████▋                       | 266 kB 33.0 MB/s eta 0:00:01\r\u001b[K     |█████████                       | 276 kB 33.0 MB/s eta 0:00:01\r\u001b[K     |█████████▎                      | 286 kB 33.0 MB/s eta 0:00:01\r\u001b[K     |█████████▋                      | 296 kB 33.0 MB/s eta 0:00:01\r\u001b[K     |██████████                      | 307 kB 33.0 MB/s eta 0:00:01\r\u001b[K     |██████████▏                     | 317 kB 33.0 MB/s eta 0:00:01\r\u001b[K     |██████████▌                     | 327 kB 33.0 MB/s eta 0:00:01\r\u001b[K     |██████████▉                     | 337 kB 33.0 MB/s eta 0:00:01\r\u001b[K     |███████████▏                    | 348 kB 33.0 MB/s eta 0:00:01\r\u001b[K     |███████████▌                    | 358 kB 33.0 MB/s eta 0:00:01\r\u001b[K     |███████████▉                    | 368 kB 33.0 MB/s eta 0:00:01\r\u001b[K     |████████████▏                   | 378 kB 33.0 MB/s eta 0:00:01\r\u001b[K     |████████████▌                   | 389 kB 33.0 MB/s eta 0:00:01\r\u001b[K     |████████████▉                   | 399 kB 33.0 MB/s eta 0:00:01\r\u001b[K     |█████████████▏                  | 409 kB 33.0 MB/s eta 0:00:01\r\u001b[K     |█████████████▌                  | 419 kB 33.0 MB/s eta 0:00:01\r\u001b[K     |█████████████▉                  | 430 kB 33.0 MB/s eta 0:00:01\r\u001b[K     |██████████████▏                 | 440 kB 33.0 MB/s eta 0:00:01\r\u001b[K     |██████████████▌                 | 450 kB 33.0 MB/s eta 0:00:01\r\u001b[K     |██████████████▉                 | 460 kB 33.0 MB/s eta 0:00:01\r\u001b[K     |███████████████▏                | 471 kB 33.0 MB/s eta 0:00:01\r\u001b[K     |███████████████▌                | 481 kB 33.0 MB/s eta 0:00:01\r\u001b[K     |███████████████▉                | 491 kB 33.0 MB/s eta 0:00:01\r\u001b[K     |████████████████▏               | 501 kB 33.0 MB/s eta 0:00:01\r\u001b[K     |████████████████▌               | 512 kB 33.0 MB/s eta 0:00:01\r\u001b[K     |████████████████▉               | 522 kB 33.0 MB/s eta 0:00:01\r\u001b[K     |█████████████████▏              | 532 kB 33.0 MB/s eta 0:00:01\r\u001b[K     |█████████████████▌              | 542 kB 33.0 MB/s eta 0:00:01\r\u001b[K     |█████████████████▉              | 552 kB 33.0 MB/s eta 0:00:01\r\u001b[K     |██████████████████▏             | 563 kB 33.0 MB/s eta 0:00:01\r\u001b[K     |██████████████████▌             | 573 kB 33.0 MB/s eta 0:00:01\r\u001b[K     |██████████████████▉             | 583 kB 33.0 MB/s eta 0:00:01\r\u001b[K     |███████████████████▏            | 593 kB 33.0 MB/s eta 0:00:01\r\u001b[K     |███████████████████▌            | 604 kB 33.0 MB/s eta 0:00:01\r\u001b[K     |███████████████████▉            | 614 kB 33.0 MB/s eta 0:00:01\r\u001b[K     |████████████████████            | 624 kB 33.0 MB/s eta 0:00:01\r\u001b[K     |████████████████████▍           | 634 kB 33.0 MB/s eta 0:00:01\r\u001b[K     |████████████████████▊           | 645 kB 33.0 MB/s eta 0:00:01\r\u001b[K     |█████████████████████           | 655 kB 33.0 MB/s eta 0:00:01\r\u001b[K     |█████████████████████▍          | 665 kB 33.0 MB/s eta 0:00:01\r\u001b[K     |█████████████████████▊          | 675 kB 33.0 MB/s eta 0:00:01\r\u001b[K     |██████████████████████          | 686 kB 33.0 MB/s eta 0:00:01\r\u001b[K     |██████████████████████▍         | 696 kB 33.0 MB/s eta 0:00:01\r\u001b[K     |██████████████████████▊         | 706 kB 33.0 MB/s eta 0:00:01\r\u001b[K     |███████████████████████         | 716 kB 33.0 MB/s eta 0:00:01\r\u001b[K     |███████████████████████▍        | 727 kB 33.0 MB/s eta 0:00:01\r\u001b[K     |███████████████████████▊        | 737 kB 33.0 MB/s eta 0:00:01\r\u001b[K     |████████████████████████        | 747 kB 33.0 MB/s eta 0:00:01\r\u001b[K     |████████████████████████▍       | 757 kB 33.0 MB/s eta 0:00:01\r\u001b[K     |████████████████████████▊       | 768 kB 33.0 MB/s eta 0:00:01\r\u001b[K     |█████████████████████████       | 778 kB 33.0 MB/s eta 0:00:01\r\u001b[K     |█████████████████████████▍      | 788 kB 33.0 MB/s eta 0:00:01\r\u001b[K     |█████████████████████████▊      | 798 kB 33.0 MB/s eta 0:00:01\r\u001b[K     |██████████████████████████      | 808 kB 33.0 MB/s eta 0:00:01\r\u001b[K     |██████████████████████████▍     | 819 kB 33.0 MB/s eta 0:00:01\r\u001b[K     |██████████████████████████▊     | 829 kB 33.0 MB/s eta 0:00:01\r\u001b[K     |███████████████████████████     | 839 kB 33.0 MB/s eta 0:00:01\r\u001b[K     |███████████████████████████▍    | 849 kB 33.0 MB/s eta 0:00:01\r\u001b[K     |███████████████████████████▊    | 860 kB 33.0 MB/s eta 0:00:01\r\u001b[K     |████████████████████████████    | 870 kB 33.0 MB/s eta 0:00:01\r\u001b[K     |████████████████████████████▍   | 880 kB 33.0 MB/s eta 0:00:01\r\u001b[K     |████████████████████████████▊   | 890 kB 33.0 MB/s eta 0:00:01\r\u001b[K     |█████████████████████████████   | 901 kB 33.0 MB/s eta 0:00:01\r\u001b[K     |█████████████████████████████▍  | 911 kB 33.0 MB/s eta 0:00:01\r\u001b[K     |█████████████████████████████▊  | 921 kB 33.0 MB/s eta 0:00:01\r\u001b[K     |██████████████████████████████  | 931 kB 33.0 MB/s eta 0:00:01\r\u001b[K     |██████████████████████████████▎ | 942 kB 33.0 MB/s eta 0:00:01\r\u001b[K     |██████████████████████████████▋ | 952 kB 33.0 MB/s eta 0:00:01\r\u001b[K     |███████████████████████████████ | 962 kB 33.0 MB/s eta 0:00:01\r\u001b[K     |███████████████████████████████▎| 972 kB 33.0 MB/s eta 0:00:01\r\u001b[K     |███████████████████████████████▋| 983 kB 33.0 MB/s eta 0:00:01\r\u001b[K     |████████████████████████████████| 993 kB 33.0 MB/s eta 0:00:01\r\u001b[K     |████████████████████████████████| 993 kB 33.0 MB/s \n",
            "\u001b[?25hRequirement already satisfied: numpy>=1.6.0 in /usr/local/lib/python3.7/dist-packages (from scikit-fuzzy) (1.18.5)\n",
            "Requirement already satisfied: scipy>=0.9.0 in /usr/local/lib/python3.7/dist-packages (from scikit-fuzzy) (1.4.1)\n",
            "Requirement already satisfied: networkx>=1.9.0 in /usr/local/lib/python3.7/dist-packages (from scikit-fuzzy) (2.5.1)\n",
            "Requirement already satisfied: decorator<5,>=4.3 in /usr/local/lib/python3.7/dist-packages (from networkx>=1.9.0->scikit-fuzzy) (4.4.2)\n",
            "Building wheels for collected packages: scikit-fuzzy\n",
            "  Building wheel for scikit-fuzzy (setup.py) ... \u001b[?25l\u001b[?25hdone\n",
            "  Created wheel for scikit-fuzzy: filename=scikit_fuzzy-0.4.2-py3-none-any.whl size=894088 sha256=026dd1d4c85a37cb96213e9de61f9320add1d31c85953430ecf2534fd66e30c5\n",
            "  Stored in directory: /root/.cache/pip/wheels/d5/74/fc/38588a3d2e3f34f74588e6daa3aa5b0a322bd6f9420a707131\n",
            "Successfully built scikit-fuzzy\n",
            "Installing collected packages: scikit-fuzzy\n",
            "Successfully installed scikit-fuzzy-0.4.2\n"
          ],
          "name": "stdout"
        }
      ]
    },
    {
      "cell_type": "code",
      "metadata": {
        "id": "KhZbnVOBMKuS",
        "colab": {
          "base_uri": "https://localhost:8080/"
        },
        "outputId": "56d45950-1097-4700-926d-e7828cda7ec5"
      },
      "source": [
        "import pandas as pd\n",
        "import numpy as np\n",
        "from matplotlib import pyplot as plt\n",
        "import seaborn as sns\n",
        "import torch\n",
        "\n",
        "from sklearn.linear_model import LinearRegression\n",
        "from sklearn.model_selection import train_test_split\n",
        "from xgboost import XGBRegressor\n",
        "from lightgbm import LGBMRegressor\n",
        "from sklearn.metrics import mean_absolute_error\n",
        "from sklearn.metrics import mean_squared_error as mse\n",
        "from scipy.stats import entropy\n",
        "import warnings\n",
        "import logging\n",
        "\n",
        "from causalml.inference.meta import BaseXRegressor, BaseRRegressor, BaseSRegressor, BaseTRegressor\n",
        "from causalml.propensity import ElasticNetPropensityModel\n",
        "from causalml.metrics import *\n",
        "from causalml.dataset import simulate_hidden_confounder"
      ],
      "execution_count": null,
      "outputs": [
        {
          "output_type": "stream",
          "text": [
            "/usr/local/lib/python3.7/dist-packages/statsmodels/tools/_testing.py:19: FutureWarning: pandas.util.testing is deprecated. Use the functions in the public API at pandas.testing instead.\n",
            "  import pandas.util.testing as tm\n"
          ],
          "name": "stderr"
        }
      ]
    },
    {
      "cell_type": "code",
      "metadata": {
        "colab": {
          "base_uri": "https://localhost:8080/"
        },
        "id": "aWtK0OBYHIhn",
        "outputId": "5ee41bf8-2ee8-4e47-bfe1-abed2c8b7be5"
      },
      "source": [
        "df= pd.read_csv('https://raw.githubusercontent.com/AMLab-Amsterdam/CEVAE/master/datasets/IHDP/csv/ihdp_npci_1.csv', header = None)\n",
        "\n",
        "df.dataframeName = 'data'\n",
        "\n",
        "cols =  [\"treatment\", \"y_factual\", \"y_cfactual\", \"mu0\", \"mu1\"] + [i for i in range(25)]\n",
        "\n",
        "df.columns = cols\n",
        "df.head()\n",
        "\n",
        "df = pd.concat([df]*100, ignore_index=True)\n",
        "print(df.shape)"
      ],
      "execution_count": null,
      "outputs": [
        {
          "output_type": "stream",
          "text": [
            "(74700, 30)\n"
          ],
          "name": "stdout"
        }
      ]
    },
    {
      "cell_type": "code",
      "metadata": {
        "id": "Ecgfu_hmMLws",
        "colab": {
          "base_uri": "https://localhost:8080/",
          "height": 226
        },
        "outputId": "a66c61ec-9612-4406-ee6a-d3db3698d75b"
      },
      "source": [
        "#precising variables type\n",
        "binfeats = [6, 7, 8, 9, 10, 11, 12, 13, 14, 15, 16, 17, 18, 19, 20, 21, 22, 23, 24]\n",
        "contfeats = [i for i in range(25) if i not in binfeats]\n",
        "perm = binfeats + contfeats\n",
        "df = df.reset_index(drop=True)\n",
        "df.head()"
      ],
      "execution_count": null,
      "outputs": [
        {
          "output_type": "execute_result",
          "data": {
            "text/html": [
              "<div>\n",
              "<style scoped>\n",
              "    .dataframe tbody tr th:only-of-type {\n",
              "        vertical-align: middle;\n",
              "    }\n",
              "\n",
              "    .dataframe tbody tr th {\n",
              "        vertical-align: top;\n",
              "    }\n",
              "\n",
              "    .dataframe thead th {\n",
              "        text-align: right;\n",
              "    }\n",
              "</style>\n",
              "<table border=\"1\" class=\"dataframe\">\n",
              "  <thead>\n",
              "    <tr style=\"text-align: right;\">\n",
              "      <th></th>\n",
              "      <th>treatment</th>\n",
              "      <th>y_factual</th>\n",
              "      <th>y_cfactual</th>\n",
              "      <th>mu0</th>\n",
              "      <th>mu1</th>\n",
              "      <th>0</th>\n",
              "      <th>1</th>\n",
              "      <th>2</th>\n",
              "      <th>3</th>\n",
              "      <th>4</th>\n",
              "      <th>5</th>\n",
              "      <th>6</th>\n",
              "      <th>7</th>\n",
              "      <th>8</th>\n",
              "      <th>9</th>\n",
              "      <th>10</th>\n",
              "      <th>11</th>\n",
              "      <th>12</th>\n",
              "      <th>13</th>\n",
              "      <th>14</th>\n",
              "      <th>15</th>\n",
              "      <th>16</th>\n",
              "      <th>17</th>\n",
              "      <th>18</th>\n",
              "      <th>19</th>\n",
              "      <th>20</th>\n",
              "      <th>21</th>\n",
              "      <th>22</th>\n",
              "      <th>23</th>\n",
              "      <th>24</th>\n",
              "    </tr>\n",
              "  </thead>\n",
              "  <tbody>\n",
              "    <tr>\n",
              "      <th>0</th>\n",
              "      <td>1</td>\n",
              "      <td>5.599916</td>\n",
              "      <td>4.318780</td>\n",
              "      <td>3.268256</td>\n",
              "      <td>6.854457</td>\n",
              "      <td>-0.528603</td>\n",
              "      <td>-0.343455</td>\n",
              "      <td>1.128554</td>\n",
              "      <td>0.161703</td>\n",
              "      <td>-0.316603</td>\n",
              "      <td>1.295216</td>\n",
              "      <td>1</td>\n",
              "      <td>0</td>\n",
              "      <td>1</td>\n",
              "      <td>0</td>\n",
              "      <td>0</td>\n",
              "      <td>0</td>\n",
              "      <td>0</td>\n",
              "      <td>1</td>\n",
              "      <td>0</td>\n",
              "      <td>1</td>\n",
              "      <td>1</td>\n",
              "      <td>1</td>\n",
              "      <td>1</td>\n",
              "      <td>0</td>\n",
              "      <td>0</td>\n",
              "      <td>0</td>\n",
              "      <td>0</td>\n",
              "      <td>0</td>\n",
              "      <td>0</td>\n",
              "    </tr>\n",
              "    <tr>\n",
              "      <th>1</th>\n",
              "      <td>0</td>\n",
              "      <td>6.875856</td>\n",
              "      <td>7.856495</td>\n",
              "      <td>6.636059</td>\n",
              "      <td>7.562718</td>\n",
              "      <td>-1.736945</td>\n",
              "      <td>-1.802002</td>\n",
              "      <td>0.383828</td>\n",
              "      <td>2.244320</td>\n",
              "      <td>-0.629189</td>\n",
              "      <td>1.295216</td>\n",
              "      <td>0</td>\n",
              "      <td>0</td>\n",
              "      <td>0</td>\n",
              "      <td>1</td>\n",
              "      <td>0</td>\n",
              "      <td>0</td>\n",
              "      <td>1</td>\n",
              "      <td>1</td>\n",
              "      <td>1</td>\n",
              "      <td>1</td>\n",
              "      <td>1</td>\n",
              "      <td>1</td>\n",
              "      <td>1</td>\n",
              "      <td>0</td>\n",
              "      <td>0</td>\n",
              "      <td>0</td>\n",
              "      <td>0</td>\n",
              "      <td>0</td>\n",
              "      <td>0</td>\n",
              "    </tr>\n",
              "    <tr>\n",
              "      <th>2</th>\n",
              "      <td>0</td>\n",
              "      <td>2.996273</td>\n",
              "      <td>6.633952</td>\n",
              "      <td>1.570536</td>\n",
              "      <td>6.121617</td>\n",
              "      <td>-0.807451</td>\n",
              "      <td>-0.202946</td>\n",
              "      <td>-0.360898</td>\n",
              "      <td>-0.879606</td>\n",
              "      <td>0.808706</td>\n",
              "      <td>-0.526556</td>\n",
              "      <td>0</td>\n",
              "      <td>0</td>\n",
              "      <td>0</td>\n",
              "      <td>1</td>\n",
              "      <td>0</td>\n",
              "      <td>0</td>\n",
              "      <td>0</td>\n",
              "      <td>2</td>\n",
              "      <td>0</td>\n",
              "      <td>1</td>\n",
              "      <td>0</td>\n",
              "      <td>1</td>\n",
              "      <td>1</td>\n",
              "      <td>0</td>\n",
              "      <td>0</td>\n",
              "      <td>0</td>\n",
              "      <td>0</td>\n",
              "      <td>0</td>\n",
              "      <td>0</td>\n",
              "    </tr>\n",
              "    <tr>\n",
              "      <th>3</th>\n",
              "      <td>0</td>\n",
              "      <td>1.366206</td>\n",
              "      <td>5.697239</td>\n",
              "      <td>1.244738</td>\n",
              "      <td>5.889125</td>\n",
              "      <td>0.390083</td>\n",
              "      <td>0.596582</td>\n",
              "      <td>-1.850350</td>\n",
              "      <td>-0.879606</td>\n",
              "      <td>-0.004017</td>\n",
              "      <td>-0.857787</td>\n",
              "      <td>0</td>\n",
              "      <td>0</td>\n",
              "      <td>0</td>\n",
              "      <td>0</td>\n",
              "      <td>0</td>\n",
              "      <td>1</td>\n",
              "      <td>1</td>\n",
              "      <td>2</td>\n",
              "      <td>0</td>\n",
              "      <td>1</td>\n",
              "      <td>0</td>\n",
              "      <td>1</td>\n",
              "      <td>1</td>\n",
              "      <td>0</td>\n",
              "      <td>0</td>\n",
              "      <td>0</td>\n",
              "      <td>0</td>\n",
              "      <td>0</td>\n",
              "      <td>0</td>\n",
              "    </tr>\n",
              "    <tr>\n",
              "      <th>4</th>\n",
              "      <td>0</td>\n",
              "      <td>1.963538</td>\n",
              "      <td>6.202582</td>\n",
              "      <td>1.685048</td>\n",
              "      <td>6.191994</td>\n",
              "      <td>-1.045229</td>\n",
              "      <td>-0.602710</td>\n",
              "      <td>0.011465</td>\n",
              "      <td>0.161703</td>\n",
              "      <td>0.683672</td>\n",
              "      <td>-0.360940</td>\n",
              "      <td>1</td>\n",
              "      <td>0</td>\n",
              "      <td>0</td>\n",
              "      <td>0</td>\n",
              "      <td>0</td>\n",
              "      <td>1</td>\n",
              "      <td>1</td>\n",
              "      <td>1</td>\n",
              "      <td>0</td>\n",
              "      <td>1</td>\n",
              "      <td>1</td>\n",
              "      <td>1</td>\n",
              "      <td>1</td>\n",
              "      <td>0</td>\n",
              "      <td>0</td>\n",
              "      <td>0</td>\n",
              "      <td>0</td>\n",
              "      <td>0</td>\n",
              "      <td>0</td>\n",
              "    </tr>\n",
              "  </tbody>\n",
              "</table>\n",
              "</div>"
            ],
            "text/plain": [
              "   treatment  y_factual  y_cfactual       mu0       mu1  ...  20  21  22  23  24\n",
              "0          1   5.599916    4.318780  3.268256  6.854457  ...   0   0   0   0   0\n",
              "1          0   6.875856    7.856495  6.636059  7.562718  ...   0   0   0   0   0\n",
              "2          0   2.996273    6.633952  1.570536  6.121617  ...   0   0   0   0   0\n",
              "3          0   1.366206    5.697239  1.244738  5.889125  ...   0   0   0   0   0\n",
              "4          0   1.963538    6.202582  1.685048  6.191994  ...   0   0   0   0   0\n",
              "\n",
              "[5 rows x 30 columns]"
            ]
          },
          "metadata": {
            "tags": []
          },
          "execution_count": 5
        }
      ]
    },
    {
      "cell_type": "code",
      "metadata": {
        "id": "rxB2naOBMPAO"
      },
      "source": [
        "X = df[perm].values\n",
        "treatment = df['treatment'].values\n",
        "y = df['y_factual'].values\n",
        "y_cf = df['y_cfactual'].values\n",
        "tau = df.apply(lambda y: y['y_factual'] - y['y_cfactual'] if y['treatment']==1 \n",
        "               else y['y_cfactual'] - y['y_factual'], \n",
        "               axis=1)\n",
        "mu_0 = df['mu0'].values\n",
        "mu_1 = df['mu1'].values"
      ],
      "execution_count": null,
      "outputs": []
    },
    {
      "cell_type": "code",
      "metadata": {
        "id": "1fD_MGT2MSGT"
      },
      "source": [
        "# train and test\n",
        "itr, ite = train_test_split(np.arange(X.shape[0]), test_size=0.2, random_state=1)\n",
        "X_train, treatment_train, y_train, y_cf_train, tau_train, mu_0_train, mu_1_train = X[itr], treatment[itr], y[itr], y_cf[itr], tau[itr], mu_0[itr], mu_1[itr]\n",
        "X_val, treatment_val, y_val, y_cf_val, tau_val, mu_0_val, mu_1_val = X[ite], treatment[ite], y[ite], y_cf[ite], tau[ite], mu_0[ite], mu_1[ite]"
      ],
      "execution_count": null,
      "outputs": []
    },
    {
      "cell_type": "code",
      "metadata": {
        "id": "juWfwn5DMW6F"
      },
      "source": [
        "# model settings\n",
        "outcome_dist = \"normal\"\n",
        "latent_dim = 20\n",
        "hidden_dim = 200\n",
        "num_epochs = 3\n",
        "batch_size = 1000\n",
        "learning_rate = 1e-3\n",
        "learning_rate_decay = 0.1\n",
        "num_layers =3"
      ],
      "execution_count": null,
      "outputs": []
    },
    {
      "cell_type": "code",
      "metadata": {
        "id": "gA98B01X5-Wm"
      },
      "source": [
        "import logging\n",
        "import torch\n",
        "from pyro.contrib.cevae import CEVAE as CEVAEModel\n",
        "\n",
        "from causalml.inference.meta.utils import convert_pd_to_np\n",
        "\n",
        "pyro_logger = logging.getLogger(\"pyro\")\n",
        "pyro_logger.setLevel(logging.DEBUG)\n",
        "if pyro_logger.handlers:\n",
        "    pyro_logger.handlers[0].setLevel(logging.DEBUG)\n",
        "\n",
        "\n",
        "class CEVAE:\n",
        "    def __init__(self, outcome_dist=\"studentt\", latent_dim=20, hidden_dim=200, num_epochs=50, num_layers=3,\n",
        "                 batch_size=100, learning_rate=1e-3, learning_rate_decay=0.1, num_samples=1000, weight_decay=1e-4):\n",
        "        \n",
        "        self.outcome_dist = outcome_dist\n",
        "        self.latent_dim = latent_dim\n",
        "        self.hidden_dim = hidden_dim\n",
        "        self.num_epochs = num_epochs\n",
        "        self.num_layers = num_layers\n",
        "        self.batch_size = batch_size\n",
        "        self.learning_rate = learning_rate\n",
        "        self.learning_rate_decay = learning_rate_decay\n",
        "        self.num_samples = num_samples\n",
        "        self.weight_decay = weight_decay\n",
        "\n",
        "    def fit(self, X, treatment, y, p=None):\n",
        "        \n",
        "        X, treatment, y = convert_pd_to_np(X, treatment, y)\n",
        "\n",
        "        self.cevae = CEVAEModel(outcome_dist=self.outcome_dist,\n",
        "                           feature_dim=X.shape[-1],\n",
        "                           latent_dim=self.latent_dim,\n",
        "                           hidden_dim=self.hidden_dim,\n",
        "                           num_layers=self.num_layers)\n",
        "\n",
        "        self.cevae.fit(x=torch.tensor(X, dtype=torch.float),\n",
        "                       t=torch.tensor(treatment, dtype=torch.float),\n",
        "                       y=torch.tensor(y, dtype=torch.float),\n",
        "                       num_epochs=self.num_epochs,\n",
        "                       batch_size=self.batch_size,\n",
        "                       learning_rate=self.learning_rate,\n",
        "                       learning_rate_decay=self.learning_rate_decay,\n",
        "                       weight_decay=self.weight_decay)\n",
        "\n",
        "    def predict(self, X, treatment=None, y=None, p=None):\n",
        "        \"\"\"\n",
        "        Calls predict on fitted DragonNet.\n",
        "        Args:\n",
        "            X (np.matrix or np.array or pd.Dataframe): a feature matrix\n",
        "        Returns:\n",
        "            (np.ndarray): Predictions of treatment effects.\n",
        "        \"\"\"\n",
        "        return self.cevae.ite(torch.tensor(X, dtype=torch.float),\n",
        "                              num_samples=self.num_samples,\n",
        "                              batch_size=self.batch_size).cpu().numpy()\n",
        "\n",
        "    def fit_predict(self, X, treatment, y, p=None):\n",
        "        \"\"\"\n",
        "        Fits the CEVAE model and then predicts.\n",
        "        Args:\n",
        "            X (np.matrix or np.array or pd.Dataframe): a feature matrix\n",
        "            treatment (np.array or pd.Series): a treatment vector\n",
        "            y (np.array or pd.Series): an outcome vector\n",
        "        Returns:\n",
        "            (np.ndarray): Predictions of treatment effects.\n",
        "        \"\"\"\n",
        "        self.fit(X, treatment, y)\n",
        "        return self.predict(X)"
      ],
      "execution_count": null,
      "outputs": []
    },
    {
      "cell_type": "code",
      "metadata": {
        "id": "8dc2C6geGLYX"
      },
      "source": [
        "\n",
        "cevae_model = CEVAE(outcome_dist=outcome_dist,\n",
        "              latent_dim=latent_dim,\n",
        "              hidden_dim=hidden_dim,\n",
        "              num_epochs=num_epochs,\n",
        "              batch_size=batch_size,\n",
        "              learning_rate=learning_rate,\n",
        "              learning_rate_decay=learning_rate_decay,\n",
        "              num_layers=num_layers)"
      ],
      "execution_count": null,
      "outputs": []
    },
    {
      "cell_type": "code",
      "metadata": {
        "colab": {
          "base_uri": "https://localhost:8080/"
        },
        "id": "QQNh6TkGGUIc",
        "outputId": "a5e1a887-697e-4a92-c6ed-0cf7071e6300"
      },
      "source": [
        "# fit\n",
        "losses = cevae_model.fit(X=torch.tensor(X_train, dtype=torch.float),\n",
        "                   treatment=torch.tensor(treatment_train, dtype=torch.float),\n",
        "                   y=torch.tensor(y_train, dtype=torch.float))"
      ],
      "execution_count": null,
      "outputs": [
        {
          "output_type": "stream",
          "text": [
            "INFO \t Training with 60 minibatches per epoch\n",
            "DEBUG \t step     0 loss = 76.7715\n",
            "DEBUG \t step   100 loss = 28.0521\n"
          ],
          "name": "stderr"
        }
      ]
    },
    {
      "cell_type": "code",
      "metadata": {
        "id": "LZRt9YyjGc69",
        "colab": {
          "base_uri": "https://localhost:8080/"
        },
        "outputId": "845ab3c5-ae3a-458f-8ae2-4b2bf7d292d1"
      },
      "source": [
        "#train \n",
        "ite_train = cevae_model.predict(X_train)\n",
        "ite_val = cevae_model.predict(X_val)"
      ],
      "execution_count": null,
      "outputs": [
        {
          "output_type": "stream",
          "text": [
            "INFO \t Evaluating 60 minibatches\n",
            "DEBUG \t batch ate = 3.97639\n",
            "DEBUG \t batch ate = 3.98329\n"
          ],
          "name": "stderr"
        }
      ]
    }
  ]
}